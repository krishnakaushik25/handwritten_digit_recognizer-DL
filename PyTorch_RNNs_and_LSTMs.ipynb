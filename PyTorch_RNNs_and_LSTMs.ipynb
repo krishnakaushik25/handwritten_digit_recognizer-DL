{
  "nbformat": 4,
  "nbformat_minor": 0,
  "metadata": {
    "colab": {
      "name": "PyTorch RNNs and LSTMs.ipynb",
      "provenance": [],
      "mount_file_id": "1kG2lQyznft3FIb4JzczSPdtrXYJLu3Ab",
      "authorship_tag": "ABX9TyPub8D7Hrq6j2Spy0XUzNEO",
      "include_colab_link": true
    },
    "kernelspec": {
      "name": "python3",
      "display_name": "Python 3"
    },
    "accelerator": "GPU",
    "widgets": {
      "application/vnd.jupyter.widget-state+json": {
        "4a3a420216f24cc0a723c54fcbd51b11": {
          "model_module": "@jupyter-widgets/controls",
          "model_name": "HBoxModel",
          "state": {
            "_view_name": "HBoxView",
            "_dom_classes": [],
            "_model_name": "HBoxModel",
            "_view_module": "@jupyter-widgets/controls",
            "_model_module_version": "1.5.0",
            "_view_count": null,
            "_view_module_version": "1.5.0",
            "box_style": "",
            "layout": "IPY_MODEL_254a042f45934431b29641f0eab63488",
            "_model_module": "@jupyter-widgets/controls",
            "children": [
              "IPY_MODEL_c118b56c00da4eb7b6ac57ff4b4a9f16",
              "IPY_MODEL_ff4b6a46178047f3abb5b27826e42275"
            ]
          }
        },
        "254a042f45934431b29641f0eab63488": {
          "model_module": "@jupyter-widgets/base",
          "model_name": "LayoutModel",
          "state": {
            "_view_name": "LayoutView",
            "grid_template_rows": null,
            "right": null,
            "justify_content": null,
            "_view_module": "@jupyter-widgets/base",
            "overflow": null,
            "_model_module_version": "1.2.0",
            "_view_count": null,
            "flex_flow": null,
            "width": null,
            "min_width": null,
            "border": null,
            "align_items": null,
            "bottom": null,
            "_model_module": "@jupyter-widgets/base",
            "top": null,
            "grid_column": null,
            "overflow_y": null,
            "overflow_x": null,
            "grid_auto_flow": null,
            "grid_area": null,
            "grid_template_columns": null,
            "flex": null,
            "_model_name": "LayoutModel",
            "justify_items": null,
            "grid_row": null,
            "max_height": null,
            "align_content": null,
            "visibility": null,
            "align_self": null,
            "height": null,
            "min_height": null,
            "padding": null,
            "grid_auto_rows": null,
            "grid_gap": null,
            "max_width": null,
            "order": null,
            "_view_module_version": "1.2.0",
            "grid_template_areas": null,
            "object_position": null,
            "object_fit": null,
            "grid_auto_columns": null,
            "margin": null,
            "display": null,
            "left": null
          }
        },
        "c118b56c00da4eb7b6ac57ff4b4a9f16": {
          "model_module": "@jupyter-widgets/controls",
          "model_name": "FloatProgressModel",
          "state": {
            "_view_name": "ProgressView",
            "style": "IPY_MODEL_43fa04c149b44c03b0b24a238a15abf3",
            "_dom_classes": [],
            "description": "",
            "_model_name": "FloatProgressModel",
            "bar_style": "success",
            "max": 1,
            "_view_module": "@jupyter-widgets/controls",
            "_model_module_version": "1.5.0",
            "value": 1,
            "_view_count": null,
            "_view_module_version": "1.5.0",
            "orientation": "horizontal",
            "min": 0,
            "description_tooltip": null,
            "_model_module": "@jupyter-widgets/controls",
            "layout": "IPY_MODEL_0a2884568ebb498f91f05e4b641b1c3b"
          }
        },
        "ff4b6a46178047f3abb5b27826e42275": {
          "model_module": "@jupyter-widgets/controls",
          "model_name": "HTMLModel",
          "state": {
            "_view_name": "HTMLView",
            "style": "IPY_MODEL_4a379d260f4441ce8ef899fac6ba00ae",
            "_dom_classes": [],
            "description": "",
            "_model_name": "HTMLModel",
            "placeholder": "​",
            "_view_module": "@jupyter-widgets/controls",
            "_model_module_version": "1.5.0",
            "value": " 9920512/? [00:00&lt;00:00, 13100584.18it/s]",
            "_view_count": null,
            "_view_module_version": "1.5.0",
            "description_tooltip": null,
            "_model_module": "@jupyter-widgets/controls",
            "layout": "IPY_MODEL_20a76c865a5f436ea7ead6dc90aa03ab"
          }
        },
        "43fa04c149b44c03b0b24a238a15abf3": {
          "model_module": "@jupyter-widgets/controls",
          "model_name": "ProgressStyleModel",
          "state": {
            "_view_name": "StyleView",
            "_model_name": "ProgressStyleModel",
            "description_width": "initial",
            "_view_module": "@jupyter-widgets/base",
            "_model_module_version": "1.5.0",
            "_view_count": null,
            "_view_module_version": "1.2.0",
            "bar_color": null,
            "_model_module": "@jupyter-widgets/controls"
          }
        },
        "0a2884568ebb498f91f05e4b641b1c3b": {
          "model_module": "@jupyter-widgets/base",
          "model_name": "LayoutModel",
          "state": {
            "_view_name": "LayoutView",
            "grid_template_rows": null,
            "right": null,
            "justify_content": null,
            "_view_module": "@jupyter-widgets/base",
            "overflow": null,
            "_model_module_version": "1.2.0",
            "_view_count": null,
            "flex_flow": null,
            "width": null,
            "min_width": null,
            "border": null,
            "align_items": null,
            "bottom": null,
            "_model_module": "@jupyter-widgets/base",
            "top": null,
            "grid_column": null,
            "overflow_y": null,
            "overflow_x": null,
            "grid_auto_flow": null,
            "grid_area": null,
            "grid_template_columns": null,
            "flex": null,
            "_model_name": "LayoutModel",
            "justify_items": null,
            "grid_row": null,
            "max_height": null,
            "align_content": null,
            "visibility": null,
            "align_self": null,
            "height": null,
            "min_height": null,
            "padding": null,
            "grid_auto_rows": null,
            "grid_gap": null,
            "max_width": null,
            "order": null,
            "_view_module_version": "1.2.0",
            "grid_template_areas": null,
            "object_position": null,
            "object_fit": null,
            "grid_auto_columns": null,
            "margin": null,
            "display": null,
            "left": null
          }
        },
        "4a379d260f4441ce8ef899fac6ba00ae": {
          "model_module": "@jupyter-widgets/controls",
          "model_name": "DescriptionStyleModel",
          "state": {
            "_view_name": "StyleView",
            "_model_name": "DescriptionStyleModel",
            "description_width": "",
            "_view_module": "@jupyter-widgets/base",
            "_model_module_version": "1.5.0",
            "_view_count": null,
            "_view_module_version": "1.2.0",
            "_model_module": "@jupyter-widgets/controls"
          }
        },
        "20a76c865a5f436ea7ead6dc90aa03ab": {
          "model_module": "@jupyter-widgets/base",
          "model_name": "LayoutModel",
          "state": {
            "_view_name": "LayoutView",
            "grid_template_rows": null,
            "right": null,
            "justify_content": null,
            "_view_module": "@jupyter-widgets/base",
            "overflow": null,
            "_model_module_version": "1.2.0",
            "_view_count": null,
            "flex_flow": null,
            "width": null,
            "min_width": null,
            "border": null,
            "align_items": null,
            "bottom": null,
            "_model_module": "@jupyter-widgets/base",
            "top": null,
            "grid_column": null,
            "overflow_y": null,
            "overflow_x": null,
            "grid_auto_flow": null,
            "grid_area": null,
            "grid_template_columns": null,
            "flex": null,
            "_model_name": "LayoutModel",
            "justify_items": null,
            "grid_row": null,
            "max_height": null,
            "align_content": null,
            "visibility": null,
            "align_self": null,
            "height": null,
            "min_height": null,
            "padding": null,
            "grid_auto_rows": null,
            "grid_gap": null,
            "max_width": null,
            "order": null,
            "_view_module_version": "1.2.0",
            "grid_template_areas": null,
            "object_position": null,
            "object_fit": null,
            "grid_auto_columns": null,
            "margin": null,
            "display": null,
            "left": null
          }
        },
        "ce78ad6b11b54a238d9997d10f9d9ed5": {
          "model_module": "@jupyter-widgets/controls",
          "model_name": "HBoxModel",
          "state": {
            "_view_name": "HBoxView",
            "_dom_classes": [],
            "_model_name": "HBoxModel",
            "_view_module": "@jupyter-widgets/controls",
            "_model_module_version": "1.5.0",
            "_view_count": null,
            "_view_module_version": "1.5.0",
            "box_style": "",
            "layout": "IPY_MODEL_32eaade2a809451ea1ccaeff5cec8896",
            "_model_module": "@jupyter-widgets/controls",
            "children": [
              "IPY_MODEL_364d7995cf894afa88281fd47e5607c4",
              "IPY_MODEL_1f4e2103560b4e5f98d50a990658d454"
            ]
          }
        },
        "32eaade2a809451ea1ccaeff5cec8896": {
          "model_module": "@jupyter-widgets/base",
          "model_name": "LayoutModel",
          "state": {
            "_view_name": "LayoutView",
            "grid_template_rows": null,
            "right": null,
            "justify_content": null,
            "_view_module": "@jupyter-widgets/base",
            "overflow": null,
            "_model_module_version": "1.2.0",
            "_view_count": null,
            "flex_flow": null,
            "width": null,
            "min_width": null,
            "border": null,
            "align_items": null,
            "bottom": null,
            "_model_module": "@jupyter-widgets/base",
            "top": null,
            "grid_column": null,
            "overflow_y": null,
            "overflow_x": null,
            "grid_auto_flow": null,
            "grid_area": null,
            "grid_template_columns": null,
            "flex": null,
            "_model_name": "LayoutModel",
            "justify_items": null,
            "grid_row": null,
            "max_height": null,
            "align_content": null,
            "visibility": null,
            "align_self": null,
            "height": null,
            "min_height": null,
            "padding": null,
            "grid_auto_rows": null,
            "grid_gap": null,
            "max_width": null,
            "order": null,
            "_view_module_version": "1.2.0",
            "grid_template_areas": null,
            "object_position": null,
            "object_fit": null,
            "grid_auto_columns": null,
            "margin": null,
            "display": null,
            "left": null
          }
        },
        "364d7995cf894afa88281fd47e5607c4": {
          "model_module": "@jupyter-widgets/controls",
          "model_name": "FloatProgressModel",
          "state": {
            "_view_name": "ProgressView",
            "style": "IPY_MODEL_6c8ead8c8ca34e57a27696d4407e02fa",
            "_dom_classes": [],
            "description": "  0%",
            "_model_name": "FloatProgressModel",
            "bar_style": "info",
            "max": 1,
            "_view_module": "@jupyter-widgets/controls",
            "_model_module_version": "1.5.0",
            "value": 0,
            "_view_count": null,
            "_view_module_version": "1.5.0",
            "orientation": "horizontal",
            "min": 0,
            "description_tooltip": null,
            "_model_module": "@jupyter-widgets/controls",
            "layout": "IPY_MODEL_467d8d776fbe4bf39a1fd90a0fa9ef5a"
          }
        },
        "1f4e2103560b4e5f98d50a990658d454": {
          "model_module": "@jupyter-widgets/controls",
          "model_name": "HTMLModel",
          "state": {
            "_view_name": "HTMLView",
            "style": "IPY_MODEL_b756190ec4e74f59a1e88b2486917ead",
            "_dom_classes": [],
            "description": "",
            "_model_name": "HTMLModel",
            "placeholder": "​",
            "_view_module": "@jupyter-widgets/controls",
            "_model_module_version": "1.5.0",
            "value": " 0/28881 [00:00&lt;?, ?it/s]",
            "_view_count": null,
            "_view_module_version": "1.5.0",
            "description_tooltip": null,
            "_model_module": "@jupyter-widgets/controls",
            "layout": "IPY_MODEL_3e0a8b02cbfa4f35a1e440b2dda8939a"
          }
        },
        "6c8ead8c8ca34e57a27696d4407e02fa": {
          "model_module": "@jupyter-widgets/controls",
          "model_name": "ProgressStyleModel",
          "state": {
            "_view_name": "StyleView",
            "_model_name": "ProgressStyleModel",
            "description_width": "initial",
            "_view_module": "@jupyter-widgets/base",
            "_model_module_version": "1.5.0",
            "_view_count": null,
            "_view_module_version": "1.2.0",
            "bar_color": null,
            "_model_module": "@jupyter-widgets/controls"
          }
        },
        "467d8d776fbe4bf39a1fd90a0fa9ef5a": {
          "model_module": "@jupyter-widgets/base",
          "model_name": "LayoutModel",
          "state": {
            "_view_name": "LayoutView",
            "grid_template_rows": null,
            "right": null,
            "justify_content": null,
            "_view_module": "@jupyter-widgets/base",
            "overflow": null,
            "_model_module_version": "1.2.0",
            "_view_count": null,
            "flex_flow": null,
            "width": null,
            "min_width": null,
            "border": null,
            "align_items": null,
            "bottom": null,
            "_model_module": "@jupyter-widgets/base",
            "top": null,
            "grid_column": null,
            "overflow_y": null,
            "overflow_x": null,
            "grid_auto_flow": null,
            "grid_area": null,
            "grid_template_columns": null,
            "flex": null,
            "_model_name": "LayoutModel",
            "justify_items": null,
            "grid_row": null,
            "max_height": null,
            "align_content": null,
            "visibility": null,
            "align_self": null,
            "height": null,
            "min_height": null,
            "padding": null,
            "grid_auto_rows": null,
            "grid_gap": null,
            "max_width": null,
            "order": null,
            "_view_module_version": "1.2.0",
            "grid_template_areas": null,
            "object_position": null,
            "object_fit": null,
            "grid_auto_columns": null,
            "margin": null,
            "display": null,
            "left": null
          }
        },
        "b756190ec4e74f59a1e88b2486917ead": {
          "model_module": "@jupyter-widgets/controls",
          "model_name": "DescriptionStyleModel",
          "state": {
            "_view_name": "StyleView",
            "_model_name": "DescriptionStyleModel",
            "description_width": "",
            "_view_module": "@jupyter-widgets/base",
            "_model_module_version": "1.5.0",
            "_view_count": null,
            "_view_module_version": "1.2.0",
            "_model_module": "@jupyter-widgets/controls"
          }
        },
        "3e0a8b02cbfa4f35a1e440b2dda8939a": {
          "model_module": "@jupyter-widgets/base",
          "model_name": "LayoutModel",
          "state": {
            "_view_name": "LayoutView",
            "grid_template_rows": null,
            "right": null,
            "justify_content": null,
            "_view_module": "@jupyter-widgets/base",
            "overflow": null,
            "_model_module_version": "1.2.0",
            "_view_count": null,
            "flex_flow": null,
            "width": null,
            "min_width": null,
            "border": null,
            "align_items": null,
            "bottom": null,
            "_model_module": "@jupyter-widgets/base",
            "top": null,
            "grid_column": null,
            "overflow_y": null,
            "overflow_x": null,
            "grid_auto_flow": null,
            "grid_area": null,
            "grid_template_columns": null,
            "flex": null,
            "_model_name": "LayoutModel",
            "justify_items": null,
            "grid_row": null,
            "max_height": null,
            "align_content": null,
            "visibility": null,
            "align_self": null,
            "height": null,
            "min_height": null,
            "padding": null,
            "grid_auto_rows": null,
            "grid_gap": null,
            "max_width": null,
            "order": null,
            "_view_module_version": "1.2.0",
            "grid_template_areas": null,
            "object_position": null,
            "object_fit": null,
            "grid_auto_columns": null,
            "margin": null,
            "display": null,
            "left": null
          }
        },
        "4092dc44a0bd46ab8e343c84731e6b8b": {
          "model_module": "@jupyter-widgets/controls",
          "model_name": "HBoxModel",
          "state": {
            "_view_name": "HBoxView",
            "_dom_classes": [],
            "_model_name": "HBoxModel",
            "_view_module": "@jupyter-widgets/controls",
            "_model_module_version": "1.5.0",
            "_view_count": null,
            "_view_module_version": "1.5.0",
            "box_style": "",
            "layout": "IPY_MODEL_599e3fbe56a7446ba87d000626b3e410",
            "_model_module": "@jupyter-widgets/controls",
            "children": [
              "IPY_MODEL_dcf7bb9be64e43adbdf68504658bb96a",
              "IPY_MODEL_c316fa7247cb44d9901cf782af56a1fb"
            ]
          }
        },
        "599e3fbe56a7446ba87d000626b3e410": {
          "model_module": "@jupyter-widgets/base",
          "model_name": "LayoutModel",
          "state": {
            "_view_name": "LayoutView",
            "grid_template_rows": null,
            "right": null,
            "justify_content": null,
            "_view_module": "@jupyter-widgets/base",
            "overflow": null,
            "_model_module_version": "1.2.0",
            "_view_count": null,
            "flex_flow": null,
            "width": null,
            "min_width": null,
            "border": null,
            "align_items": null,
            "bottom": null,
            "_model_module": "@jupyter-widgets/base",
            "top": null,
            "grid_column": null,
            "overflow_y": null,
            "overflow_x": null,
            "grid_auto_flow": null,
            "grid_area": null,
            "grid_template_columns": null,
            "flex": null,
            "_model_name": "LayoutModel",
            "justify_items": null,
            "grid_row": null,
            "max_height": null,
            "align_content": null,
            "visibility": null,
            "align_self": null,
            "height": null,
            "min_height": null,
            "padding": null,
            "grid_auto_rows": null,
            "grid_gap": null,
            "max_width": null,
            "order": null,
            "_view_module_version": "1.2.0",
            "grid_template_areas": null,
            "object_position": null,
            "object_fit": null,
            "grid_auto_columns": null,
            "margin": null,
            "display": null,
            "left": null
          }
        },
        "dcf7bb9be64e43adbdf68504658bb96a": {
          "model_module": "@jupyter-widgets/controls",
          "model_name": "FloatProgressModel",
          "state": {
            "_view_name": "ProgressView",
            "style": "IPY_MODEL_444ce7e842714477a778537fd2af6e9f",
            "_dom_classes": [],
            "description": "",
            "_model_name": "FloatProgressModel",
            "bar_style": "info",
            "max": 1,
            "_view_module": "@jupyter-widgets/controls",
            "_model_module_version": "1.5.0",
            "value": 1,
            "_view_count": null,
            "_view_module_version": "1.5.0",
            "orientation": "horizontal",
            "min": 0,
            "description_tooltip": null,
            "_model_module": "@jupyter-widgets/controls",
            "layout": "IPY_MODEL_955036c9c5c5446c9ee30147f141a91f"
          }
        },
        "c316fa7247cb44d9901cf782af56a1fb": {
          "model_module": "@jupyter-widgets/controls",
          "model_name": "HTMLModel",
          "state": {
            "_view_name": "HTMLView",
            "style": "IPY_MODEL_4870fac2548b4517b9f65ae27ae411f4",
            "_dom_classes": [],
            "description": "",
            "_model_name": "HTMLModel",
            "placeholder": "​",
            "_view_module": "@jupyter-widgets/controls",
            "_model_module_version": "1.5.0",
            "value": " 1654784/? [00:19&lt;00:00, 123445.21it/s]",
            "_view_count": null,
            "_view_module_version": "1.5.0",
            "description_tooltip": null,
            "_model_module": "@jupyter-widgets/controls",
            "layout": "IPY_MODEL_324d672a07414aadbfbedd9adb182df9"
          }
        },
        "444ce7e842714477a778537fd2af6e9f": {
          "model_module": "@jupyter-widgets/controls",
          "model_name": "ProgressStyleModel",
          "state": {
            "_view_name": "StyleView",
            "_model_name": "ProgressStyleModel",
            "description_width": "initial",
            "_view_module": "@jupyter-widgets/base",
            "_model_module_version": "1.5.0",
            "_view_count": null,
            "_view_module_version": "1.2.0",
            "bar_color": null,
            "_model_module": "@jupyter-widgets/controls"
          }
        },
        "955036c9c5c5446c9ee30147f141a91f": {
          "model_module": "@jupyter-widgets/base",
          "model_name": "LayoutModel",
          "state": {
            "_view_name": "LayoutView",
            "grid_template_rows": null,
            "right": null,
            "justify_content": null,
            "_view_module": "@jupyter-widgets/base",
            "overflow": null,
            "_model_module_version": "1.2.0",
            "_view_count": null,
            "flex_flow": null,
            "width": null,
            "min_width": null,
            "border": null,
            "align_items": null,
            "bottom": null,
            "_model_module": "@jupyter-widgets/base",
            "top": null,
            "grid_column": null,
            "overflow_y": null,
            "overflow_x": null,
            "grid_auto_flow": null,
            "grid_area": null,
            "grid_template_columns": null,
            "flex": null,
            "_model_name": "LayoutModel",
            "justify_items": null,
            "grid_row": null,
            "max_height": null,
            "align_content": null,
            "visibility": null,
            "align_self": null,
            "height": null,
            "min_height": null,
            "padding": null,
            "grid_auto_rows": null,
            "grid_gap": null,
            "max_width": null,
            "order": null,
            "_view_module_version": "1.2.0",
            "grid_template_areas": null,
            "object_position": null,
            "object_fit": null,
            "grid_auto_columns": null,
            "margin": null,
            "display": null,
            "left": null
          }
        },
        "4870fac2548b4517b9f65ae27ae411f4": {
          "model_module": "@jupyter-widgets/controls",
          "model_name": "DescriptionStyleModel",
          "state": {
            "_view_name": "StyleView",
            "_model_name": "DescriptionStyleModel",
            "description_width": "",
            "_view_module": "@jupyter-widgets/base",
            "_model_module_version": "1.5.0",
            "_view_count": null,
            "_view_module_version": "1.2.0",
            "_model_module": "@jupyter-widgets/controls"
          }
        },
        "324d672a07414aadbfbedd9adb182df9": {
          "model_module": "@jupyter-widgets/base",
          "model_name": "LayoutModel",
          "state": {
            "_view_name": "LayoutView",
            "grid_template_rows": null,
            "right": null,
            "justify_content": null,
            "_view_module": "@jupyter-widgets/base",
            "overflow": null,
            "_model_module_version": "1.2.0",
            "_view_count": null,
            "flex_flow": null,
            "width": null,
            "min_width": null,
            "border": null,
            "align_items": null,
            "bottom": null,
            "_model_module": "@jupyter-widgets/base",
            "top": null,
            "grid_column": null,
            "overflow_y": null,
            "overflow_x": null,
            "grid_auto_flow": null,
            "grid_area": null,
            "grid_template_columns": null,
            "flex": null,
            "_model_name": "LayoutModel",
            "justify_items": null,
            "grid_row": null,
            "max_height": null,
            "align_content": null,
            "visibility": null,
            "align_self": null,
            "height": null,
            "min_height": null,
            "padding": null,
            "grid_auto_rows": null,
            "grid_gap": null,
            "max_width": null,
            "order": null,
            "_view_module_version": "1.2.0",
            "grid_template_areas": null,
            "object_position": null,
            "object_fit": null,
            "grid_auto_columns": null,
            "margin": null,
            "display": null,
            "left": null
          }
        },
        "2d8d3ec14564482eaea3049b29b04fd8": {
          "model_module": "@jupyter-widgets/controls",
          "model_name": "HBoxModel",
          "state": {
            "_view_name": "HBoxView",
            "_dom_classes": [],
            "_model_name": "HBoxModel",
            "_view_module": "@jupyter-widgets/controls",
            "_model_module_version": "1.5.0",
            "_view_count": null,
            "_view_module_version": "1.5.0",
            "box_style": "",
            "layout": "IPY_MODEL_5d76d50f5ff94686b7ad3e5539abc7a5",
            "_model_module": "@jupyter-widgets/controls",
            "children": [
              "IPY_MODEL_a3a0755e8540432b96faad539f470a78",
              "IPY_MODEL_88e44cb5d52c4d3594dda5388376bd16"
            ]
          }
        },
        "5d76d50f5ff94686b7ad3e5539abc7a5": {
          "model_module": "@jupyter-widgets/base",
          "model_name": "LayoutModel",
          "state": {
            "_view_name": "LayoutView",
            "grid_template_rows": null,
            "right": null,
            "justify_content": null,
            "_view_module": "@jupyter-widgets/base",
            "overflow": null,
            "_model_module_version": "1.2.0",
            "_view_count": null,
            "flex_flow": null,
            "width": null,
            "min_width": null,
            "border": null,
            "align_items": null,
            "bottom": null,
            "_model_module": "@jupyter-widgets/base",
            "top": null,
            "grid_column": null,
            "overflow_y": null,
            "overflow_x": null,
            "grid_auto_flow": null,
            "grid_area": null,
            "grid_template_columns": null,
            "flex": null,
            "_model_name": "LayoutModel",
            "justify_items": null,
            "grid_row": null,
            "max_height": null,
            "align_content": null,
            "visibility": null,
            "align_self": null,
            "height": null,
            "min_height": null,
            "padding": null,
            "grid_auto_rows": null,
            "grid_gap": null,
            "max_width": null,
            "order": null,
            "_view_module_version": "1.2.0",
            "grid_template_areas": null,
            "object_position": null,
            "object_fit": null,
            "grid_auto_columns": null,
            "margin": null,
            "display": null,
            "left": null
          }
        },
        "a3a0755e8540432b96faad539f470a78": {
          "model_module": "@jupyter-widgets/controls",
          "model_name": "FloatProgressModel",
          "state": {
            "_view_name": "ProgressView",
            "style": "IPY_MODEL_d6bada8db99f4f7798e3f73df0b0f5f9",
            "_dom_classes": [],
            "description": "",
            "_model_name": "FloatProgressModel",
            "bar_style": "info",
            "max": 1,
            "_view_module": "@jupyter-widgets/controls",
            "_model_module_version": "1.5.0",
            "value": 0,
            "_view_count": null,
            "_view_module_version": "1.5.0",
            "orientation": "horizontal",
            "min": 0,
            "description_tooltip": null,
            "_model_module": "@jupyter-widgets/controls",
            "layout": "IPY_MODEL_0795b0e8353d4b0cb32a345d4eec99d5"
          }
        },
        "88e44cb5d52c4d3594dda5388376bd16": {
          "model_module": "@jupyter-widgets/controls",
          "model_name": "HTMLModel",
          "state": {
            "_view_name": "HTMLView",
            "style": "IPY_MODEL_5d86ace8084b4b1da5ca27831d553641",
            "_dom_classes": [],
            "description": "",
            "_model_name": "HTMLModel",
            "placeholder": "​",
            "_view_module": "@jupyter-widgets/controls",
            "_model_module_version": "1.5.0",
            "value": " 0/? [00:00&lt;?, ?it/s]",
            "_view_count": null,
            "_view_module_version": "1.5.0",
            "description_tooltip": null,
            "_model_module": "@jupyter-widgets/controls",
            "layout": "IPY_MODEL_1ec11e7cbe104e07a3d958ee5a07a045"
          }
        },
        "d6bada8db99f4f7798e3f73df0b0f5f9": {
          "model_module": "@jupyter-widgets/controls",
          "model_name": "ProgressStyleModel",
          "state": {
            "_view_name": "StyleView",
            "_model_name": "ProgressStyleModel",
            "description_width": "initial",
            "_view_module": "@jupyter-widgets/base",
            "_model_module_version": "1.5.0",
            "_view_count": null,
            "_view_module_version": "1.2.0",
            "bar_color": null,
            "_model_module": "@jupyter-widgets/controls"
          }
        },
        "0795b0e8353d4b0cb32a345d4eec99d5": {
          "model_module": "@jupyter-widgets/base",
          "model_name": "LayoutModel",
          "state": {
            "_view_name": "LayoutView",
            "grid_template_rows": null,
            "right": null,
            "justify_content": null,
            "_view_module": "@jupyter-widgets/base",
            "overflow": null,
            "_model_module_version": "1.2.0",
            "_view_count": null,
            "flex_flow": null,
            "width": null,
            "min_width": null,
            "border": null,
            "align_items": null,
            "bottom": null,
            "_model_module": "@jupyter-widgets/base",
            "top": null,
            "grid_column": null,
            "overflow_y": null,
            "overflow_x": null,
            "grid_auto_flow": null,
            "grid_area": null,
            "grid_template_columns": null,
            "flex": null,
            "_model_name": "LayoutModel",
            "justify_items": null,
            "grid_row": null,
            "max_height": null,
            "align_content": null,
            "visibility": null,
            "align_self": null,
            "height": null,
            "min_height": null,
            "padding": null,
            "grid_auto_rows": null,
            "grid_gap": null,
            "max_width": null,
            "order": null,
            "_view_module_version": "1.2.0",
            "grid_template_areas": null,
            "object_position": null,
            "object_fit": null,
            "grid_auto_columns": null,
            "margin": null,
            "display": null,
            "left": null
          }
        },
        "5d86ace8084b4b1da5ca27831d553641": {
          "model_module": "@jupyter-widgets/controls",
          "model_name": "DescriptionStyleModel",
          "state": {
            "_view_name": "StyleView",
            "_model_name": "DescriptionStyleModel",
            "description_width": "",
            "_view_module": "@jupyter-widgets/base",
            "_model_module_version": "1.5.0",
            "_view_count": null,
            "_view_module_version": "1.2.0",
            "_model_module": "@jupyter-widgets/controls"
          }
        },
        "1ec11e7cbe104e07a3d958ee5a07a045": {
          "model_module": "@jupyter-widgets/base",
          "model_name": "LayoutModel",
          "state": {
            "_view_name": "LayoutView",
            "grid_template_rows": null,
            "right": null,
            "justify_content": null,
            "_view_module": "@jupyter-widgets/base",
            "overflow": null,
            "_model_module_version": "1.2.0",
            "_view_count": null,
            "flex_flow": null,
            "width": null,
            "min_width": null,
            "border": null,
            "align_items": null,
            "bottom": null,
            "_model_module": "@jupyter-widgets/base",
            "top": null,
            "grid_column": null,
            "overflow_y": null,
            "overflow_x": null,
            "grid_auto_flow": null,
            "grid_area": null,
            "grid_template_columns": null,
            "flex": null,
            "_model_name": "LayoutModel",
            "justify_items": null,
            "grid_row": null,
            "max_height": null,
            "align_content": null,
            "visibility": null,
            "align_self": null,
            "height": null,
            "min_height": null,
            "padding": null,
            "grid_auto_rows": null,
            "grid_gap": null,
            "max_width": null,
            "order": null,
            "_view_module_version": "1.2.0",
            "grid_template_areas": null,
            "object_position": null,
            "object_fit": null,
            "grid_auto_columns": null,
            "margin": null,
            "display": null,
            "left": null
          }
        }
      }
    }
  },
  "cells": [
    {
      "cell_type": "markdown",
      "metadata": {
        "id": "view-in-github",
        "colab_type": "text"
      },
      "source": [
        "<a href=\"https://colab.research.google.com/github/krishnakaushik25/handwritten_digit_recognizer-DL/blob/master/PyTorch_RNNs_and_LSTMs.ipynb\" target=\"_parent\"><img src=\"https://colab.research.google.com/assets/colab-badge.svg\" alt=\"Open In Colab\"/></a>"
      ]
    },
    {
      "cell_type": "code",
      "metadata": {
        "id": "XAFmJp2zwxlr",
        "colab_type": "code",
        "colab": {}
      },
      "source": [
        "# Imports\n",
        "import torch\n",
        "import torch.nn as nn\n",
        "import torch.nn.functional as F\n",
        "import torch.optim as optim\n",
        "import os\n",
        "import numpy as np\n",
        "\n",
        "import torchvision\n",
        "import torchvision.transforms as transforms\n",
        "\n",
        "import matplotlib.pyplot as plt\n",
        "%matplotlib inline\n",
        "import sklearn.metrics\n",
        "import seaborn as sns\n",
        "import random\n",
        "\n",
        "# To display youtube videos\n",
        "from IPython.display import YouTubeVideo\n",
        "\n",
        "\n",
        "def set_seed(seed = 1234):\n",
        "    '''Sets the seed of the entire notebook so results are the same every time we run.\n",
        "    This is for REPRODUCIBILITY.'''\n",
        "    np.random.seed(seed)\n",
        "    random.seed(seed)\n",
        "    torch.manual_seed(seed)\n",
        "    torch.cuda.manual_seed(seed)\n",
        "    # When running on the CuDNN backend, two further options must be set\n",
        "    torch.backends.cudnn.deterministic = True\n",
        "    # Set a fixed value for the hash seed\n",
        "    os.environ['PYTHONHASHSEED'] = str(seed)\n",
        "    \n",
        "set_seed()\n",
        "\n",
        "device = torch.device('cuda' if torch.cuda.is_available() else 'cpu')\n",
        "print('Device available now:', device)"
      ],
      "execution_count": null,
      "outputs": []
    },
    {
      "cell_type": "markdown",
      "metadata": {
        "id": "ozWmWIBQyQTO",
        "colab_type": "text"
      },
      "source": [
        " RNN with 1 Layer and 1 Neuron"
      ]
    },
    {
      "cell_type": "code",
      "metadata": {
        "id": "iiDObmDQw9Gz",
        "colab_type": "code",
        "colab": {
          "base_uri": "https://localhost:8080/",
          "height": 50
        },
        "outputId": "c53a2bca-2ab9-46bb-c96d-9aa47eca537a"
      },
      "source": [
        "# ==== STATICS ====\n",
        "n_inputs = 4\n",
        "n_neurons = 1\n",
        "# =================\n",
        "\n",
        "# RNN inputs\n",
        "input0 = torch.tensor([[0, 1, 2, 0], [3, 4, 5, 0], [6, 7, 8, 0], [9, 0, 1, 0]], dtype = torch.float)\n",
        "print('input time_0 shape:', input0.shape)\n",
        "\n",
        "input1 = torch.tensor([[9, 8, 7, 0], [3, 4, 5, 0], [6, 7, 8, 0], [9, 0, 1, 0]], dtype = torch.float)\n",
        "print('input time_1 shape:', input1.shape)"
      ],
      "execution_count": null,
      "outputs": [
        {
          "output_type": "stream",
          "text": [
            "input time_0 shape: torch.Size([4, 4])\n",
            "input time_1 shape: torch.Size([4, 4])\n"
          ],
          "name": "stdout"
        }
      ]
    },
    {
      "cell_type": "code",
      "metadata": {
        "id": "L7328dyQyUSj",
        "colab_type": "code",
        "colab": {}
      },
      "source": [
        "# The Neural Network\n",
        "class RNNVanilla(nn.Module):\n",
        "    # __init__: the function where we create the architecture\n",
        "    def __init__(self, n_inputs, n_neurons):\n",
        "        super(RNNVanilla, self).__init__()\n",
        "        \n",
        "        # Weights are random at first\n",
        "        # U contains connection weights for the inputs of the current time step\n",
        "        self.U = torch.randn(n_inputs, n_neurons) # for 1 neuron: size = 4 rows and 1 column\n",
        "        \n",
        "        # W contains connection weights for the outputs of the previous time step\n",
        "        self.W = torch.randn(n_neurons, n_neurons) # for 1 neuron: size = 1 row and 1 column\n",
        "        \n",
        "        # The bias\n",
        "        self.b = torch.zeros(1, n_neurons) # for 1 neuron: size = 1 row and 1 column\n",
        "    \n",
        "    # forward: function where we apply the architecture to the input\n",
        "    def forward(self, input0, input1):\n",
        "        # Computes two outputs, one for each time step (two overall).\n",
        "        self.output0 = torch.tanh(torch.mm(input0, self.U) + self.b)\n",
        "        \n",
        "        self.output1 = torch.tanh(torch.mm(self.output0, self.W) + torch.mm(input1, self.U) + self.b)\n",
        "        \n",
        "        return self.output0, self.output1"
      ],
      "execution_count": null,
      "outputs": []
    },
    {
      "cell_type": "code",
      "metadata": {
        "id": "lJ0MDwA02HCv",
        "colab_type": "code",
        "colab": {
          "base_uri": "https://localhost:8080/",
          "height": 167
        },
        "outputId": "b9080523-c82d-42ee-f8f3-31a9422d2139"
      },
      "source": [
        "# Creating the model\n",
        "rnn_1_neuron = RNNVanilla(n_inputs, n_neurons)\n",
        "\n",
        "# Checking the output\n",
        "output0, output1 = rnn_1_neuron(input0, input1)\n",
        "print('output0:', output0, '\\n')\n",
        "print('output1:', output1)"
      ],
      "execution_count": null,
      "outputs": [
        {
          "output_type": "stream",
          "text": [
            "output0: tensor([[-0.9247],\n",
            "        [-0.9973],\n",
            "        [-0.9999],\n",
            "        [-0.5345]]) \n",
            "\n",
            "output1: tensor([[-0.9937],\n",
            "        [-0.9910],\n",
            "        [-0.9997],\n",
            "        [-0.2628]])\n"
          ],
          "name": "stdout"
        }
      ]
    },
    {
      "cell_type": "code",
      "metadata": {
        "id": "Oyq5SIVX2NqI",
        "colab_type": "code",
        "colab": {
          "base_uri": "https://localhost:8080/",
          "height": 117
        },
        "outputId": "9752db1a-30b3-4b43-df81-4539d3180bd2"
      },
      "source": [
        "# Parameters\n",
        "print('U:', rnn_1_neuron.U)\n",
        "print('W:', rnn_1_neuron.W)\n",
        "print('bias:', rnn_1_neuron.b)"
      ],
      "execution_count": null,
      "outputs": [
        {
          "output_type": "stream",
          "text": [
            "U: tensor([[ 0.0461],\n",
            "        [ 0.4024],\n",
            "        [-1.0115],\n",
            "        [ 0.2167]])\n",
            "W: tensor([[-0.6123]])\n",
            "bias: tensor([[0.]])\n"
          ],
          "name": "stdout"
        }
      ]
    },
    {
      "cell_type": "markdown",
      "metadata": {
        "id": "9uHXWBEb2VOw",
        "colab_type": "text"
      },
      "source": [
        "RNN with 1 Layer and Multiple Neurons "
      ]
    },
    {
      "cell_type": "code",
      "metadata": {
        "id": "T4nmbNRA2RTa",
        "colab_type": "code",
        "colab": {
          "base_uri": "https://localhost:8080/",
          "height": 50
        },
        "outputId": "dda57b84-3864-42a2-bd79-479d81c14b92"
      },
      "source": [
        "# ==== STATICS ====\n",
        "n_inputs = 3\n",
        "n_neurons = 5\n",
        "# =================\n",
        "\n",
        "# RNN inputs\n",
        "input0 = torch.tensor([[0, 1, 2], [3, 4, 5], [6, 7, 8], [9, 0, 1]], dtype = torch.float)\n",
        "print('input time_0 shape:', input0.shape)\n",
        "\n",
        "input1 = torch.tensor([[9, 8, 7], [0, 0, 0], [6, 5, 4], [3, 2, 1]], dtype = torch.float)\n",
        "print('input time_1 shape:', input1.shape)"
      ],
      "execution_count": null,
      "outputs": [
        {
          "output_type": "stream",
          "text": [
            "input time_0 shape: torch.Size([4, 3])\n",
            "input time_1 shape: torch.Size([4, 3])\n"
          ],
          "name": "stdout"
        }
      ]
    },
    {
      "cell_type": "code",
      "metadata": {
        "id": "K2zQ7Grs2Xor",
        "colab_type": "code",
        "colab": {
          "base_uri": "https://localhost:8080/",
          "height": 167
        },
        "outputId": "41184cc3-5127-4d63-d448-91aeea09728b"
      },
      "source": [
        "# Creating the model\n",
        "rnn_n_neurons = RNNVanilla(n_inputs, n_neurons)\n",
        "\n",
        "# Checking the output\n",
        "output0, output1 = rnn_n_neurons(input0, input1)\n",
        "print('output0:', output0, '\\n')\n",
        "print('output1:', output1)"
      ],
      "execution_count": null,
      "outputs": [
        {
          "output_type": "stream",
          "text": [
            "output0: tensor([[ 0.9538, -0.6534,  0.7879, -0.8832, -0.9953],\n",
            "        [ 1.0000, -0.9287,  0.9998, -1.0000, -0.8423],\n",
            "        [ 1.0000, -0.9870,  1.0000, -1.0000,  0.5144],\n",
            "        [ 1.0000,  0.9486,  1.0000, -0.9840,  1.0000]]) \n",
            "\n",
            "output1: tensor([[ 1.0000, -0.9795,  1.0000, -1.0000,  1.0000],\n",
            "        [-0.4268, -0.6269,  0.9398,  0.9575, -0.9623],\n",
            "        [ 1.0000, -0.9559,  1.0000, -1.0000,  0.9999],\n",
            "        [ 0.9991,  0.5718,  0.9485, -0.9160,  0.9999]])\n"
          ],
          "name": "stdout"
        }
      ]
    },
    {
      "cell_type": "code",
      "metadata": {
        "id": "k1BcYjI02af4",
        "colab_type": "code",
        "colab": {
          "base_uri": "https://localhost:8080/",
          "height": 167
        },
        "outputId": "8ae32248-26ed-46c8-f359-75041eb86654"
      },
      "source": [
        "# Parameters\n",
        "print('U:', rnn_n_neurons.U)\n",
        "print('W:', rnn_n_neurons.W)\n",
        "print('bias:', rnn_n_neurons.b)"
      ],
      "execution_count": null,
      "outputs": [
        {
          "output_type": "stream",
          "text": [
            "U: tensor([[ 0.5036,  0.2310,  0.6931, -0.2669,  2.1785],\n",
            "        [ 0.1021, -0.2590, -0.1549, -1.3706, -0.1319],\n",
            "        [ 0.8848, -0.2611,  0.6104, -0.0098, -1.4473]])\n",
            "W: tensor([[ 0.7667,  0.0190,  0.0220,  1.1532, -0.3393],\n",
            "        [ 0.1559,  0.8966, -0.2968, -0.6857,  0.9247],\n",
            "        [ 0.1825, -0.0737,  0.3147, -1.0369,  0.2100],\n",
            "        [ 0.6144, -0.0552, -0.3297, -1.7970,  0.8728],\n",
            "        [ 0.7670, -0.1138, -0.9428,  0.7540,  0.1365]])\n",
            "bias: tensor([[0., 0., 0., 0., 0.]])\n"
          ],
          "name": "stdout"
        }
      ]
    },
    {
      "cell_type": "markdown",
      "metadata": {
        "id": "ROYR34UW2kNV",
        "colab_type": "text"
      },
      "source": [
        "Vanilla RNN for MNIST Classification"
      ]
    },
    {
      "cell_type": "code",
      "metadata": {
        "id": "PcKMfsGe2hY3",
        "colab_type": "code",
        "colab": {
          "base_uri": "https://localhost:8080/",
          "height": 365,
          "referenced_widgets": [
            "4a3a420216f24cc0a723c54fcbd51b11",
            "254a042f45934431b29641f0eab63488",
            "c118b56c00da4eb7b6ac57ff4b4a9f16",
            "ff4b6a46178047f3abb5b27826e42275",
            "43fa04c149b44c03b0b24a238a15abf3",
            "0a2884568ebb498f91f05e4b641b1c3b",
            "4a379d260f4441ce8ef899fac6ba00ae",
            "20a76c865a5f436ea7ead6dc90aa03ab",
            "ce78ad6b11b54a238d9997d10f9d9ed5",
            "32eaade2a809451ea1ccaeff5cec8896",
            "364d7995cf894afa88281fd47e5607c4",
            "1f4e2103560b4e5f98d50a990658d454",
            "6c8ead8c8ca34e57a27696d4407e02fa",
            "467d8d776fbe4bf39a1fd90a0fa9ef5a",
            "b756190ec4e74f59a1e88b2486917ead",
            "3e0a8b02cbfa4f35a1e440b2dda8939a",
            "4092dc44a0bd46ab8e343c84731e6b8b",
            "599e3fbe56a7446ba87d000626b3e410",
            "dcf7bb9be64e43adbdf68504658bb96a",
            "c316fa7247cb44d9901cf782af56a1fb",
            "444ce7e842714477a778537fd2af6e9f",
            "955036c9c5c5446c9ee30147f141a91f",
            "4870fac2548b4517b9f65ae27ae411f4",
            "324d672a07414aadbfbedd9adb182df9",
            "2d8d3ec14564482eaea3049b29b04fd8",
            "5d76d50f5ff94686b7ad3e5539abc7a5",
            "a3a0755e8540432b96faad539f470a78",
            "88e44cb5d52c4d3594dda5388376bd16",
            "d6bada8db99f4f7798e3f73df0b0f5f9",
            "0795b0e8353d4b0cb32a345d4eec99d5",
            "5d86ace8084b4b1da5ca27831d553641",
            "1ec11e7cbe104e07a3d958ee5a07a045"
          ]
        },
        "outputId": "4db55824-7382-432f-aada-69eacc06a93e"
      },
      "source": [
        "# Customized transform (transforms to tensor, here you can normalize, perform Data Augmentation etc.)\n",
        "my_transform = transforms.Compose([transforms.ToTensor()])\n",
        "\n",
        "# Download data\n",
        "mnist_train = torchvision.datasets.MNIST('data', train = True, download=True, transform=my_transform)\n",
        "mnist_test = torchvision.datasets.MNIST('data', train = False, download=True, transform=my_transform)"
      ],
      "execution_count": null,
      "outputs": [
        {
          "output_type": "stream",
          "text": [
            "Downloading http://yann.lecun.com/exdb/mnist/train-images-idx3-ubyte.gz to data/MNIST/raw/train-images-idx3-ubyte.gz\n"
          ],
          "name": "stdout"
        },
        {
          "output_type": "display_data",
          "data": {
            "application/vnd.jupyter.widget-view+json": {
              "model_id": "4a3a420216f24cc0a723c54fcbd51b11",
              "version_minor": 0,
              "version_major": 2
            },
            "text/plain": [
              "HBox(children=(FloatProgress(value=1.0, bar_style='info', max=1.0), HTML(value='')))"
            ]
          },
          "metadata": {
            "tags": []
          }
        },
        {
          "output_type": "stream",
          "text": [
            "Extracting data/MNIST/raw/train-images-idx3-ubyte.gz to data/MNIST/raw\n",
            "Downloading http://yann.lecun.com/exdb/mnist/train-labels-idx1-ubyte.gz to data/MNIST/raw/train-labels-idx1-ubyte.gz\n",
            "\n"
          ],
          "name": "stdout"
        },
        {
          "output_type": "display_data",
          "data": {
            "application/vnd.jupyter.widget-view+json": {
              "model_id": "ce78ad6b11b54a238d9997d10f9d9ed5",
              "version_minor": 0,
              "version_major": 2
            },
            "text/plain": [
              "HBox(children=(FloatProgress(value=1.0, bar_style='info', max=1.0), HTML(value='')))"
            ]
          },
          "metadata": {
            "tags": []
          }
        },
        {
          "output_type": "stream",
          "text": [
            "Extracting data/MNIST/raw/train-labels-idx1-ubyte.gz to data/MNIST/raw\n",
            "Downloading http://yann.lecun.com/exdb/mnist/t10k-images-idx3-ubyte.gz to data/MNIST/raw/t10k-images-idx3-ubyte.gz\n"
          ],
          "name": "stdout"
        },
        {
          "output_type": "display_data",
          "data": {
            "application/vnd.jupyter.widget-view+json": {
              "model_id": "4092dc44a0bd46ab8e343c84731e6b8b",
              "version_minor": 0,
              "version_major": 2
            },
            "text/plain": [
              "HBox(children=(FloatProgress(value=1.0, bar_style='info', max=1.0), HTML(value='')))"
            ]
          },
          "metadata": {
            "tags": []
          }
        },
        {
          "output_type": "stream",
          "text": [
            "Extracting data/MNIST/raw/t10k-images-idx3-ubyte.gz to data/MNIST/raw\n",
            "Downloading http://yann.lecun.com/exdb/mnist/t10k-labels-idx1-ubyte.gz to data/MNIST/raw/t10k-labels-idx1-ubyte.gz\n"
          ],
          "name": "stdout"
        },
        {
          "output_type": "display_data",
          "data": {
            "application/vnd.jupyter.widget-view+json": {
              "model_id": "2d8d3ec14564482eaea3049b29b04fd8",
              "version_minor": 0,
              "version_major": 2
            },
            "text/plain": [
              "HBox(children=(FloatProgress(value=1.0, bar_style='info', max=1.0), HTML(value='')))"
            ]
          },
          "metadata": {
            "tags": []
          }
        },
        {
          "output_type": "stream",
          "text": [
            "Extracting data/MNIST/raw/t10k-labels-idx1-ubyte.gz to data/MNIST/raw\n",
            "Processing...\n",
            "Done!\n"
          ],
          "name": "stdout"
        },
        {
          "output_type": "stream",
          "text": [
            "/pytorch/torch/csrc/utils/tensor_numpy.cpp:141: UserWarning: The given NumPy array is not writeable, and PyTorch does not support non-writeable tensors. This means you can write to the underlying (supposedly non-writeable) NumPy array using the tensor. You may want to copy the array to protect its data or make it writeable before converting it to a tensor. This type of warning will be suppressed for the rest of this program.\n"
          ],
          "name": "stderr"
        }
      ]
    },
    {
      "cell_type": "markdown",
      "metadata": {
        "id": "fCRLdP-x2ybe",
        "colab_type": "text"
      },
      "source": [
        "RNN Architecture for MNIST Classification"
      ]
    },
    {
      "cell_type": "code",
      "metadata": {
        "id": "LMwwaq7A2upa",
        "colab_type": "code",
        "colab": {}
      },
      "source": [
        "# The Neural Network\n",
        "class VanillaRNN_MNIST(nn.Module):\n",
        "    def __init__(self, batch_size, input_size, hidden_size, output_size):\n",
        "        super(VanillaRNN_MNIST, self).__init__()\n",
        "        self.batch_size, self.input_size, self.hidden_size, self.output_size = batch_size, input_size, hidden_size, output_size\n",
        "        \n",
        "        # RNN Layer\n",
        "        self.rnn = nn.RNN(input_size, hidden_size)\n",
        "        # Fully Connected Layer\n",
        "        self.layer = nn.Linear(hidden_size, self.output_size)\n",
        "    \n",
        "    def forward(self, images, prints=False):\n",
        "        if prints: print('Original Images Shape:', images.shape)\n",
        "        \n",
        "        images = images.permute(1, 0, 2)\n",
        "        if prints: print('Permuted Imaged Shape:', images.shape)\n",
        "        \n",
        "        # Initialize hidden state with zeros\n",
        "        hidden_state = torch.zeros(1, self.batch_size, self.hidden_size)\n",
        "        if prints: print('Initial hidden state Shape:', hidden_state.shape)\n",
        "        \n",
        "        # Creating RNN\n",
        "        hidden_outputs, hidden_state = self.rnn(images, hidden_state)\n",
        "        \n",
        "        # Log probabilities\n",
        "        out = self.layer(hidden_state)\n",
        "        \n",
        "        if prints:\n",
        "            print('----hidden_outputs shape:', hidden_outputs.shape, '\\n' +\n",
        "                  '----final hidden state:', hidden_state.shape, '\\n' +\n",
        "                  '----out shape:', out.shape)\n",
        "        \n",
        "        # Reshaped out\n",
        "        out = out.view(-1, self.output_size)\n",
        "        if prints: print('Out Final Shape:', out.shape)\n",
        "        \n",
        "        return out"
      ],
      "execution_count": null,
      "outputs": []
    },
    {
      "cell_type": "code",
      "metadata": {
        "id": "Bb9mDoRD20ie",
        "colab_type": "code",
        "colab": {}
      },
      "source": [
        "batch_size = 64        # how many images to be trained in one iteration\n",
        "input_size = 28        # image 28 by 28\n",
        "hidden_size = 150      # can be changed to any number: neurons\n",
        "output_size = 10       # 10 different digits"
      ],
      "execution_count": null,
      "outputs": []
    },
    {
      "cell_type": "code",
      "metadata": {
        "id": "8RsAeVd-23uW",
        "colab_type": "code",
        "colab": {
          "base_uri": "https://localhost:8080/",
          "height": 201
        },
        "outputId": "31957a70-2abc-49f8-d72c-eec5a99c017d"
      },
      "source": [
        "# Create a train_loader to select a batch from it\n",
        "train_loader = torch.utils.data.DataLoader(mnist_train, batch_size=64)\n",
        "\n",
        "# Select one full batch from the data\n",
        "images_example, labels_example = next(iter(train_loader))\n",
        "print('original images shape:', images_example.shape)\n",
        "\n",
        "# Reshape\n",
        "images_example = images_example.view(-1, 28, 28)\n",
        "print('changed images shape:', images_example.shape)\n",
        "print('labels shape:', labels_example.shape, '\\n')\n",
        "\n",
        "# Creating the model\n",
        "model_example = VanillaRNN_MNIST(batch_size, input_size, hidden_size, output_size)\n",
        "\n",
        "\n",
        "out = model_example(images_example, prints=True)"
      ],
      "execution_count": null,
      "outputs": [
        {
          "output_type": "stream",
          "text": [
            "original images shape: torch.Size([64, 1, 28, 28])\n",
            "changed images shape: torch.Size([64, 28, 28])\n",
            "labels shape: torch.Size([64]) \n",
            "\n",
            "Original Images Shape: torch.Size([64, 28, 28])\n",
            "Permuted Imaged Shape: torch.Size([28, 64, 28])\n",
            "Initial hidden state Shape: torch.Size([1, 64, 150])\n",
            "----hidden_outputs shape: torch.Size([28, 64, 150]) \n",
            "----final hidden state: torch.Size([1, 64, 150]) \n",
            "----out shape: torch.Size([1, 64, 10])\n",
            "Out Final Shape: torch.Size([64, 10])\n"
          ],
          "name": "stdout"
        }
      ]
    },
    {
      "cell_type": "code",
      "metadata": {
        "id": "aWN3ijxQ28O9",
        "colab_type": "code",
        "colab": {
          "base_uri": "https://localhost:8080/",
          "height": 134
        },
        "outputId": "83f7a5a1-a237-48e8-ee52-09127af4444a"
      },
      "source": [
        "# Understand Model Parameters\n",
        "print('Len parameters:', len(list(model_example.parameters())), '\\n' +\n",
        "      'Parameters 0 - U:', list(model_example.parameters())[0].shape, '\\n' +\n",
        "      'Parameters 1 - W:', list(model_example.parameters())[1].shape, '\\n' +\n",
        "      'Parameters 2 - Bias:', list(model_example.parameters())[2].shape, '\\n' +\n",
        "      'Parameters 3 - Bias:', list(model_example.parameters())[3].shape, '\\n' +\n",
        "      'Parameters 4 - FNN weights:', list(model_example.parameters())[4].shape, '\\n' +\n",
        "      'Parameters 5 - Predictions:', list(model_example.parameters())[5].shape)"
      ],
      "execution_count": null,
      "outputs": [
        {
          "output_type": "stream",
          "text": [
            "Len parameters: 6 \n",
            "Parameters 0 - U: torch.Size([150, 28]) \n",
            "Parameters 1 - W: torch.Size([150, 150]) \n",
            "Parameters 2 - Bias: torch.Size([150]) \n",
            "Parameters 3 - Bias: torch.Size([150]) \n",
            "Parameters 4 - FNN weights: torch.Size([10, 150]) \n",
            "Parameters 5 - Predictions: torch.Size([10])\n"
          ],
          "name": "stdout"
        }
      ]
    },
    {
      "cell_type": "code",
      "metadata": {
        "id": "W18LPF6M3EXF",
        "colab_type": "code",
        "colab": {}
      },
      "source": [
        "def get_accuracy(out, actual_labels, batchSize):\n",
        "    '''Saves the Accuracy of the batch.\n",
        "    Takes in the log probabilities, actual label and the batchSize (to average the score).'''\n",
        "    predictions = out.max(dim=1)[1]\n",
        "    correct = (predictions == actual_labels).sum().item()\n",
        "    accuracy = correct/batch_size\n",
        "    \n",
        "    return accuracy"
      ],
      "execution_count": null,
      "outputs": []
    },
    {
      "cell_type": "code",
      "metadata": {
        "id": "DVbyB_gw3Ijo",
        "colab_type": "code",
        "colab": {}
      },
      "source": [
        "def train_network(model, train_data, test_data, batchSize=64, num_epochs=1, learning_rate=0.001):\n",
        "    \n",
        "    '''Trains the model and computes the average accuracy for train and test data.'''\n",
        "    \n",
        "    print('Get data ready...')\n",
        "    # Create dataloader for training dataset - so we can train on multiple batches\n",
        "    # Shuffle after every epoch\n",
        "    train_loader = torch.utils.data.DataLoader(dataset=train_data, batch_size=batchSize, shuffle=True, drop_last=True)\n",
        "    test_loader = torch.utils.data.DataLoader(dataset=test_data, batch_size=batchSize, shuffle=True, drop_last=True)\n",
        "    \n",
        "    # Create criterion and optimizer\n",
        "    criterion = nn.CrossEntropyLoss()\n",
        "    optimizer = optim.Adam(model.parameters(), lr=learning_rate)\n",
        "    \n",
        "    \n",
        "    print('Training started...')\n",
        "    # Train the data multiple times\n",
        "    for epoch in range(num_epochs):\n",
        "        \n",
        "        # Save Train and Test Loss\n",
        "        train_loss = 0\n",
        "        train_acc = 0\n",
        "        \n",
        "        # Set model in training mode:\n",
        "        model.train()\n",
        "        \n",
        "        for k, (images, labels) in enumerate(train_loader):\n",
        "            \n",
        "            # Get rid of the channel\n",
        "            images = images.view(-1, 28, 28)\n",
        "            \n",
        "            # Create log probabilities\n",
        "            out = model(images)\n",
        "            # Clears the gradients from previous iteration\n",
        "            optimizer.zero_grad()\n",
        "            # Computes loss: how far is the prediction from the actual?\n",
        "            loss = criterion(out, labels)\n",
        "            # Computes gradients for neurons\n",
        "            loss.backward()\n",
        "            # Updates the weights\n",
        "            optimizer.step()\n",
        "            \n",
        "            # Save Loss & Accuracy after each iteration\n",
        "            train_loss += loss.item()\n",
        "            train_acc += get_accuracy(out, labels, batchSize)\n",
        "            \n",
        "        \n",
        "        # Print Average Train Loss & Accuracy after each epoch\n",
        "        print('TRAIN | Epoch: {}/{} | Loss: {:.2f} | Accuracy: {:.2f}'.format(epoch+1, num_epochs, train_loss/k, train_acc/k))\n",
        "            \n",
        "            \n",
        "    print('Testing Started...')\n",
        "    # Save Test Accuracy\n",
        "    test_acc = 0\n",
        "    # Evaluation mode\n",
        "    model.eval()\n",
        "    \n",
        "    for k, (images, labels) in enumerate(test_loader):\n",
        "        # Get rid of the channel\n",
        "        images = images.view(-1, 28, 28)\n",
        "        \n",
        "        # Create logit predictions\n",
        "        out = model(images)\n",
        "        # Add Accuracy of this batch\n",
        "        test_acc += get_accuracy(out, labels, batchSize)\n",
        "        \n",
        "    # Print Final Test Accuracy\n",
        "    print('TEST | Average Accuracy per {} Loaders: {:.5f}'.format(k, test_acc/k) )"
      ],
      "execution_count": null,
      "outputs": []
    },
    {
      "cell_type": "code",
      "metadata": {
        "id": "62ibbXfn3QrP",
        "colab_type": "code",
        "colab": {
          "base_uri": "https://localhost:8080/",
          "height": 251
        },
        "outputId": "f2abca8f-67ec-4481-d04e-31d95ba8c1c5"
      },
      "source": [
        "# ==== STATICS ====\n",
        "batch_size=64\n",
        "input_size=28\n",
        "hidden_size=150\n",
        "output_size=10\n",
        "\n",
        "# Instantiate the model\n",
        "vanilla_rnn = VanillaRNN_MNIST(batch_size, input_size, hidden_size, output_size)\n",
        "\n",
        "# ==== TRAIN ====\n",
        "train_network(vanilla_rnn, mnist_train, mnist_test, num_epochs=10)"
      ],
      "execution_count": null,
      "outputs": [
        {
          "output_type": "stream",
          "text": [
            "Get data ready...\n",
            "Training started...\n",
            "TRAIN | Epoch: 1/10 | Loss: 0.79 | Accuracy: 0.74\n",
            "TRAIN | Epoch: 2/10 | Loss: 0.38 | Accuracy: 0.89\n",
            "TRAIN | Epoch: 3/10 | Loss: 0.29 | Accuracy: 0.92\n",
            "TRAIN | Epoch: 4/10 | Loss: 0.24 | Accuracy: 0.93\n",
            "TRAIN | Epoch: 5/10 | Loss: 0.21 | Accuracy: 0.94\n",
            "TRAIN | Epoch: 6/10 | Loss: 0.19 | Accuracy: 0.95\n",
            "TRAIN | Epoch: 7/10 | Loss: 0.18 | Accuracy: 0.95\n",
            "TRAIN | Epoch: 8/10 | Loss: 0.16 | Accuracy: 0.95\n",
            "TRAIN | Epoch: 9/10 | Loss: 0.15 | Accuracy: 0.96\n",
            "TRAIN | Epoch: 10/10 | Loss: 0.14 | Accuracy: 0.96\n",
            "Testing Started...\n",
            "TEST | Average Accuracy per 155 Loaders: 0.97258\n"
          ],
          "name": "stdout"
        }
      ]
    },
    {
      "cell_type": "markdown",
      "metadata": {
        "id": "TXV_Scdl3bGA",
        "colab_type": "text"
      },
      "source": [
        "Multilayer RNNs"
      ]
    },
    {
      "cell_type": "markdown",
      "metadata": {
        "id": "6TXBdFD83eav",
        "colab_type": "text"
      },
      "source": [
        "Multilayer RNN for MNIST Classification "
      ]
    },
    {
      "cell_type": "code",
      "metadata": {
        "id": "QqxXJuW83SPU",
        "colab_type": "code",
        "colab": {}
      },
      "source": [
        "class MultilayerRNN_MNIST(nn.Module):\n",
        "    def __init__(self, input_size, hidden_size, layer_size, output_size, relu=True):\n",
        "        super(MultilayerRNN_MNIST, self).__init__()\n",
        "        self.input_size, self.hidden_size, self.layer_size, self.output_size = input_size, hidden_size, layer_size, output_size\n",
        "        \n",
        "        # Create RNN\n",
        "        if relu:\n",
        "            self.rnn = nn.RNN(input_size, hidden_size, layer_size, batch_first=True, nonlinearity='relu')\n",
        "        else:\n",
        "            self.rnn = nn.RNN(input_size, hidden_size, layer_size, batch_first=True, nonlinearity='tanh')\n",
        "            \n",
        "        # Create FNN\n",
        "        self.fnn = nn.Linear(hidden_size, output_size)\n",
        "        \n",
        "    def forward(self, images, prints=False):\n",
        "        if prints: print('images shape:', images.shape)\n",
        "        \n",
        "        # Instantiate hidden_state at timestamp 0\n",
        "        hidden_state = torch.zeros(self.layer_size, images.size(0), self.hidden_size)\n",
        "        hidden_state = hidden_state.requires_grad_()\n",
        "        if prints: print('Hidden State shape:', hidden_state.shape)\n",
        "        \n",
        "        # Compute RNN\n",
        "        # .detach() is required to prevent vanishing gradient problem\n",
        "        output, last_hidden_state = self.rnn(images, hidden_state.detach())\n",
        "        if prints: print('RNN Output shape:', output.shape, '\\n' +\n",
        "                         'RNN last_hidden_state shape', last_hidden_state.shape)\n",
        "        \n",
        "        # Compute FNN\n",
        "        # We get rid of the second size\n",
        "        output = self.fnn(output[:, -1, :])\n",
        "        if prints: print('FNN Output shape:', output.shape)\n",
        "        \n",
        "        return output"
      ],
      "execution_count": null,
      "outputs": []
    },
    {
      "cell_type": "code",
      "metadata": {
        "id": "zGaAWBQi3mM9",
        "colab_type": "code",
        "colab": {}
      },
      "source": [
        "# ===== STATICS =====\n",
        "batch_size = 64\n",
        "input_size = 28\n",
        "hidden_size = 100      # neurons\n",
        "layer_size = 2         # layers\n",
        "output_size = 10\n",
        "# ==================="
      ],
      "execution_count": null,
      "outputs": []
    },
    {
      "cell_type": "code",
      "metadata": {
        "id": "zEDYi8Bf3ris",
        "colab_type": "code",
        "colab": {
          "base_uri": "https://localhost:8080/",
          "height": 217
        },
        "outputId": "c5afe747-db6a-4b13-d130-1ec8d76344b5"
      },
      "source": [
        "train_loader_example = torch.utils.data.DataLoader(mnist_train, batch_size=64)\n",
        "\n",
        "# Taking a single batch of the images\n",
        "images, labels = next(iter(train_loader_example))\n",
        "print('original images shape:', images.shape)\n",
        "\n",
        "# Remove channel from shape\n",
        "images = images.reshape(-1, 28, 28)\n",
        "print('reshaped images shape:', images.shape, '\\n')\n",
        "\n",
        "# Create model instance\n",
        "multilayer_rnn_example = MultilayerRNN_MNIST(input_size, hidden_size, layer_size, output_size, relu=False)\n",
        "print(multilayer_rnn_example)\n",
        "\n",
        "\n",
        "# Making log predictions:\n",
        "out = multilayer_rnn_example(images, prints=True)"
      ],
      "execution_count": null,
      "outputs": [
        {
          "output_type": "stream",
          "text": [
            "original images shape: torch.Size([64, 1, 28, 28])\n",
            "reshaped images shape: torch.Size([64, 28, 28]) \n",
            "\n",
            "MultilayerRNN_MNIST(\n",
            "  (rnn): RNN(28, 100, num_layers=2, batch_first=True)\n",
            "  (fnn): Linear(in_features=100, out_features=10, bias=True)\n",
            ")\n",
            "images shape: torch.Size([64, 28, 28])\n",
            "Hidden State shape: torch.Size([2, 64, 100])\n",
            "RNN Output shape: torch.Size([64, 28, 100]) \n",
            "RNN last_hidden_state shape torch.Size([2, 64, 100])\n",
            "FNN Output shape: torch.Size([64, 10])\n"
          ],
          "name": "stdout"
        }
      ]
    },
    {
      "cell_type": "code",
      "metadata": {
        "id": "9k6Wk2CW3vZY",
        "colab_type": "code",
        "colab": {
          "base_uri": "https://localhost:8080/",
          "height": 251
        },
        "outputId": "e335689e-fe24-42c3-ca89-b90b47fe32c7"
      },
      "source": [
        "# ==== STATICS ====\n",
        "batch_size = 64\n",
        "input_size = 28\n",
        "hidden_size = 100  \n",
        "layer_size = 2         \n",
        "output_size = 10\n",
        "\n",
        "# Instantiate the model\n",
        "# We'll use TANH as our activation function\n",
        "multilayer_rnn = MultilayerRNN_MNIST(input_size, hidden_size, layer_size, output_size, relu=False)\n",
        "\n",
        "# ==== TRAIN ====\n",
        "train_network(multilayer_rnn, mnist_train, mnist_test, num_epochs=10)"
      ],
      "execution_count": null,
      "outputs": [
        {
          "output_type": "stream",
          "text": [
            "Get data ready...\n",
            "Training started...\n",
            "TRAIN | Epoch: 1/10 | Loss: 0.68 | Accuracy: 0.78\n",
            "TRAIN | Epoch: 2/10 | Loss: 0.30 | Accuracy: 0.91\n",
            "TRAIN | Epoch: 3/10 | Loss: 0.23 | Accuracy: 0.93\n",
            "TRAIN | Epoch: 4/10 | Loss: 0.18 | Accuracy: 0.95\n",
            "TRAIN | Epoch: 5/10 | Loss: 0.16 | Accuracy: 0.95\n",
            "TRAIN | Epoch: 6/10 | Loss: 0.15 | Accuracy: 0.96\n",
            "TRAIN | Epoch: 7/10 | Loss: 0.15 | Accuracy: 0.96\n",
            "TRAIN | Epoch: 8/10 | Loss: 0.13 | Accuracy: 0.96\n",
            "TRAIN | Epoch: 9/10 | Loss: 0.13 | Accuracy: 0.96\n",
            "TRAIN | Epoch: 10/10 | Loss: 0.12 | Accuracy: 0.97\n",
            "Testing Started...\n",
            "TEST | Average Accuracy per 155 Loaders: 0.97833\n"
          ],
          "name": "stdout"
        }
      ]
    },
    {
      "cell_type": "markdown",
      "metadata": {
        "id": "OXzGVV3833HF",
        "colab_type": "text"
      },
      "source": [
        "LSTM (Long Short Term Memory RNNs)"
      ]
    },
    {
      "cell_type": "code",
      "metadata": {
        "id": "2-MWxRjz3ykP",
        "colab_type": "code",
        "colab": {}
      },
      "source": [
        "class LSTM_MNIST(nn.Module):\n",
        "    def __init__(self, input_size, hidden_size, layer_size, output_size, bidirectional=True):\n",
        "        super(LSTM_MNIST, self).__init__()\n",
        "        \n",
        "        self.input_size, self.hidden_size, self.layer_size, self.output_size = input_size, hidden_size, layer_size, output_size\n",
        "        self.bidirectional = bidirectional\n",
        "        \n",
        "        # Step1: the LSTM model\n",
        "        self.lstm = nn.LSTM(input_size, hidden_size, layer_size, batch_first=True, bidirectional=bidirectional)\n",
        "        \n",
        "        # Step2: the FNN\n",
        "        if bidirectional: # we'll have 2 more layers\n",
        "            self.layer = nn.Linear(hidden_size*2, output_size)\n",
        "        else:\n",
        "            self.layer = nn.Linear(hidden_size, output_size)\n",
        "            \n",
        "            \n",
        "    def forward(self, images, prints=False):\n",
        "        if prints: print('images shape:', images.shape)\n",
        "        \n",
        "        # Set initial states\n",
        "        if self.bidirectional:\n",
        "            # Hidden state:\n",
        "            hidden_state = torch.zeros(self.layer_size*2, images.size(0), self.hidden_size)\n",
        "            # Cell state:\n",
        "            cell_state = torch.zeros(self.layer_size*2, images.size(0), self.hidden_size)\n",
        "        else:\n",
        "            # Hidden state:\n",
        "            hidden_state = torch.zeros(self.layer_size, images.size(0), self.hidden_size)\n",
        "            # Cell state:\n",
        "            cell_state = torch.zeros(self.layer_size, images.size(0), self.hidden_size)\n",
        "        if prints: print('hidden_state t0 shape:', hidden_state.shape, '\\n' +\n",
        "                         'cell_state t0 shape:', cell_state.shape)\n",
        "        \n",
        "        # LSTM:\n",
        "        output, (last_hidden_state, last_cell_state) = self.lstm(images, (hidden_state, cell_state))\n",
        "        if prints: print('LSTM: output shape:', output.shape, '\\n' +\n",
        "                         'LSTM: last_hidden_state shape:', last_hidden_state.shape, '\\n' +\n",
        "                         'LSTM: last_cell_state shape:', last_cell_state.shape)\n",
        "        # Reshape\n",
        "        output = output[:, -1, :]\n",
        "        if prints: print('output reshape:', output.shape)\n",
        "        \n",
        "        # FNN:\n",
        "        output = self.layer(output)\n",
        "        if prints: print('FNN: Final output shape:', output.shape)\n",
        "        \n",
        "        return output"
      ],
      "execution_count": null,
      "outputs": []
    },
    {
      "cell_type": "code",
      "metadata": {
        "id": "Olaoh1_s4FJw",
        "colab_type": "code",
        "colab": {}
      },
      "source": [
        "# ====== STATICS ======\n",
        "batch_size = 64\n",
        "input_size = 28       # width of image\n",
        "hidden_size = 128     # number of hidden neurons\n",
        "layer_size = 2        # number of layers\n",
        "output_size = 10      # possible choices\n",
        "# ====================="
      ],
      "execution_count": null,
      "outputs": []
    },
    {
      "cell_type": "code",
      "metadata": {
        "id": "Wh_YXAAT4I5w",
        "colab_type": "code",
        "colab": {
          "base_uri": "https://localhost:8080/",
          "height": 284
        },
        "outputId": "ab3844bd-63d5-462f-f26d-e557db4be4e0"
      },
      "source": [
        "# Taking a single batch of the images\n",
        "images, labels = next(iter(train_loader_example))\n",
        "print('original images shape:', images.shape)\n",
        "# Remove channel from shape\n",
        "images = images.reshape(-1, 28, 28)\n",
        "print('reshaped images shape:', images.shape, '\\n')\n",
        "\n",
        "# Creating the Model\n",
        "lstm_example = LSTM_MNIST(input_size, hidden_size, layer_size, output_size)\n",
        "print('lstm_example:', lstm_example, '\\n')\n",
        "\n",
        "# Making log predictions:\n",
        "out = lstm_example(images, prints=True)"
      ],
      "execution_count": null,
      "outputs": [
        {
          "output_type": "stream",
          "text": [
            "original images shape: torch.Size([64, 1, 28, 28])\n",
            "reshaped images shape: torch.Size([64, 28, 28]) \n",
            "\n",
            "lstm_example: LSTM_MNIST(\n",
            "  (lstm): LSTM(28, 128, num_layers=2, batch_first=True, bidirectional=True)\n",
            "  (layer): Linear(in_features=256, out_features=10, bias=True)\n",
            ") \n",
            "\n",
            "images shape: torch.Size([64, 28, 28])\n",
            "hidden_state t0 shape: torch.Size([4, 64, 128]) \n",
            "cell_state t0 shape: torch.Size([4, 64, 128])\n",
            "LSTM: output shape: torch.Size([64, 28, 256]) \n",
            "LSTM: last_hidden_state shape: torch.Size([4, 64, 128]) \n",
            "LSTM: last_cell_state shape: torch.Size([4, 64, 128])\n",
            "output reshape: torch.Size([64, 256])\n",
            "FNN: Final output shape: torch.Size([64, 10])\n"
          ],
          "name": "stdout"
        }
      ]
    },
    {
      "cell_type": "code",
      "metadata": {
        "id": "T1viN01l4Kl-",
        "colab_type": "code",
        "colab": {
          "base_uri": "https://localhost:8080/",
          "height": 251
        },
        "outputId": "f17353b2-3ff6-4a40-cda0-852637de48c1"
      },
      "source": [
        "# ==== STATICS ====\n",
        "batch_size = 64\n",
        "input_size = 28\n",
        "hidden_size = 100  \n",
        "layer_size = 2         \n",
        "output_size = 10\n",
        "\n",
        "# Instantiate the model\n",
        "# We'll use TANH as our activation function\n",
        "lstm_rnn = LSTM_MNIST(input_size, hidden_size, layer_size, output_size)\n",
        "\n",
        "# ==== TRAIN ====\n",
        "train_network(lstm_rnn, mnist_train, mnist_test, num_epochs=10)"
      ],
      "execution_count": null,
      "outputs": [
        {
          "output_type": "stream",
          "text": [
            "Get data ready...\n",
            "Training started...\n",
            "TRAIN | Epoch: 1/10 | Loss: 0.48 | Accuracy: 0.84\n",
            "TRAIN | Epoch: 2/10 | Loss: 0.14 | Accuracy: 0.96\n",
            "TRAIN | Epoch: 3/10 | Loss: 0.09 | Accuracy: 0.97\n",
            "TRAIN | Epoch: 4/10 | Loss: 0.07 | Accuracy: 0.98\n",
            "TRAIN | Epoch: 5/10 | Loss: 0.06 | Accuracy: 0.98\n",
            "TRAIN | Epoch: 6/10 | Loss: 0.05 | Accuracy: 0.99\n",
            "TRAIN | Epoch: 7/10 | Loss: 0.04 | Accuracy: 0.99\n",
            "TRAIN | Epoch: 8/10 | Loss: 0.03 | Accuracy: 0.99\n",
            "TRAIN | Epoch: 9/10 | Loss: 0.03 | Accuracy: 0.99\n",
            "TRAIN | Epoch: 10/10 | Loss: 0.03 | Accuracy: 0.99\n",
            "Testing Started...\n",
            "TEST | Average Accuracy per 155 Loaders: 0.99365\n"
          ],
          "name": "stdout"
        }
      ]
    },
    {
      "cell_type": "markdown",
      "metadata": {
        "id": "SW4paYPL4mGm",
        "colab_type": "text"
      },
      "source": [
        "Confusion Matrix"
      ]
    },
    {
      "cell_type": "code",
      "metadata": {
        "id": "O5fCT-SS4Nox",
        "colab_type": "code",
        "colab": {}
      },
      "source": [
        "def get_confusion_matrix(model, test_data):\n",
        "    # First we make sure we disable Gradient Computing\n",
        "    torch.no_grad()\n",
        "    \n",
        "    # Model in Evaluation Mode\n",
        "    model.eval()\n",
        "    \n",
        "    preds, actuals = [], []\n",
        "\n",
        "    for image, label in mnist_test:\n",
        "        image = image.view(-1, 28, 28)\n",
        "        out = model(image)\n",
        "\n",
        "        prediction = torch.max(out, dim=1)[1].item()\n",
        "        preds.append(prediction)\n",
        "        actuals.append(label)\n",
        "    \n",
        "    return sklearn.metrics.confusion_matrix(preds, actuals)"
      ],
      "execution_count": null,
      "outputs": []
    },
    {
      "cell_type": "code",
      "metadata": {
        "id": "9f6XVvSI4pDd",
        "colab_type": "code",
        "colab": {
          "base_uri": "https://localhost:8080/",
          "height": 338
        },
        "outputId": "e073ee3d-345e-4a49-ce8a-342e5960801d"
      },
      "source": [
        "plt.figure(figsize=(16, 5))\n",
        "sns.heatmap(get_confusion_matrix(lstm_rnn, mnist_test), cmap='icefire', annot=True, linewidths=0.1,\n",
        "           fmt = ',')\n",
        "plt.title('Confusion Matrix: LSTM', fontsize=15);"
      ],
      "execution_count": null,
      "outputs": [
        {
          "output_type": "display_data",
          "data": {
            "image/png": "[encoded data removed]",
            "text/plain": [
              "<Figure size 1152x360 with 2 Axes>"
            ]
          },
          "metadata": {
            "tags": [],
            "needs_background": "light"
          }
        }
      ]
    },
    {
      "cell_type": "code",
      "metadata": {
        "id": "lhwEL-mn4rj6",
        "colab_type": "code",
        "colab": {}
      },
      "source": [
        ""
      ],
      "execution_count": null,
      "outputs": []
    }
  ]
}