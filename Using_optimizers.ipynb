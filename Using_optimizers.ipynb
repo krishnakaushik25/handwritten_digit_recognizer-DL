{
  "nbformat": 4,
  "nbformat_minor": 0,
  "metadata": {
    "colab": {
      "name": "Using optimizers.ipynb",
      "provenance": [],
      "mount_file_id": "1bs2XpoWfoSMjRcFWL1rRiPqnx28oGuul",
      "authorship_tag": "ABX9TyNg/Yirb4NRwXYxXH8ipZ7B",
      "include_colab_link": true
    },
    "kernelspec": {
      "name": "python3",
      "display_name": "Python 3"
    },
    "accelerator": "GPU"
  },
  "cells": [
    {
      "cell_type": "markdown",
      "metadata": {
        "id": "view-in-github",
        "colab_type": "text"
      },
      "source": [
        "<a href=\"https://colab.research.google.com/github/krishnakaushik25/handwritten_digit_recognizer-DL/blob/master/Using_optimizers.ipynb\" target=\"_parent\"><img src=\"https://colab.research.google.com/assets/colab-badge.svg\" alt=\"Open In Colab\"/></a>"
      ]
    },
    {
      "cell_type": "markdown",
      "metadata": {
        "id": "1Y0_cXlV8EUH",
        "colab_type": "text"
      },
      "source": [
        "USING SGD,Momentum and L2-regulizer in training process"
      ]
    },
    {
      "cell_type": "code",
      "metadata": {
        "id": "MS3_vp7CpF8D",
        "colab_type": "code",
        "colab": {}
      },
      "source": [
        "import matplotlib.pyplot as plt\n",
        "import pandas as pd\n",
        "import numpy as np\n",
        "import time\n",
        "import sys\n",
        "import warnings\n",
        "warnings.filterwarnings(\"ignore\")\n",
        "\n",
        "seed = 782\n",
        "np.random.seed(seed)"
      ],
      "execution_count": null,
      "outputs": []
    },
    {
      "cell_type": "code",
      "metadata": {
        "id": "tS5uMv6J233r",
        "colab_type": "code",
        "colab": {
          "base_uri": "https://localhost:8080/",
          "height": 50
        },
        "outputId": "8c6b639c-894b-470d-9255-e2e80940497c"
      },
      "source": [
        "df = pd.read_csv(\"/content/drive/My Drive/train.csv\")\n",
        "train = df.values\n",
        "\n",
        "train_y = train[:,0].astype('int8')\n",
        "train_x = train[:,1:].astype('float64')\n",
        "\n",
        "train = None\n",
        "\n",
        "print(\"Shape Train Images: (%d,%d)\" % train_x.shape)\n",
        "print(\"Shape Labels: (%d)\" % train_y.shape)"
      ],
      "execution_count": null,
      "outputs": [
        {
          "output_type": "stream",
          "text": [
            "Shape Train Images: (42000,784)\n",
            "Shape Labels: (42000)\n"
          ],
          "name": "stdout"
        }
      ]
    },
    {
      "cell_type": "code",
      "metadata": {
        "id": "CDQh6bFw2-Br",
        "colab_type": "code",
        "colab": {
          "base_uri": "https://localhost:8080/",
          "height": 33
        },
        "outputId": "9710ec55-0b2a-4ef2-9677-a367803fe2f8"
      },
      "source": [
        "df = pd.read_csv(\"/content/drive/My Drive/test.csv\")\n",
        "test = df.values.astype('float64')\n",
        "print(\"Shape Test Images: (%d,%d)\" % test.shape)"
      ],
      "execution_count": null,
      "outputs": [
        {
          "output_type": "stream",
          "text": [
            "Shape Test Images: (28000,784)\n"
          ],
          "name": "stdout"
        }
      ]
    },
    {
      "cell_type": "code",
      "metadata": {
        "id": "rbc3fhpT3UXW",
        "colab_type": "code",
        "colab": {
          "base_uri": "https://localhost:8080/",
          "height": 265
        },
        "outputId": "efbdb91f-884a-4f71-8f67-c61780105d03"
      },
      "source": [
        "def count_exemple_per_digit(exemples):\n",
        "    hist = np.ones(10)\n",
        "\n",
        "    for y in exemples:\n",
        "        hist[y] += 1\n",
        "\n",
        "    colors = []\n",
        "    for i in range(10):\n",
        "        colors.append(plt.get_cmap('viridis')(np.random.uniform(0.0,1.0,1)[0]))\n",
        "\n",
        "    bar = plt.bar(np.arange(10), hist, 0.8, color=colors)\n",
        "\n",
        "    plt.grid()\n",
        "    plt.show()\n",
        "\n",
        "count_exemple_per_digit(train_y)"
      ],
      "execution_count": null,
      "outputs": [
        {
          "output_type": "display_data",
          "data": {
            "image/png": "[encoded data removed]",
            "text/plain": [
              "<Figure size 432x288 with 1 Axes>"
            ]
          },
          "metadata": {
            "tags": [],
            "needs_background": "light"
          }
        }
      ]
    },
    {
      "cell_type": "code",
      "metadata": {
        "id": "3qzViJy73vM0",
        "colab_type": "code",
        "colab": {}
      },
      "source": [
        "def normalization(x, mu, sigma):\n",
        "    \n",
        "    x_norm = np.zeros_like(x)\n",
        "\n",
        "    for n in range(len(x)):\n",
        "        for j in range(len(x[n])):\n",
        "            if(sigma[j]!=0):\n",
        "                x_norm[n,j] = (x[n,j] - mu[j]) / sigma[j]\n",
        "            else:\n",
        "                x_norm[n,j] = 0\n",
        "                    \n",
        "    return x_norm"
      ],
      "execution_count": null,
      "outputs": []
    },
    {
      "cell_type": "code",
      "metadata": {
        "id": "6RejIgZ24CYc",
        "colab_type": "code",
        "colab": {}
      },
      "source": [
        "mu = np.mean(train_x, axis=0)\n",
        "sigma = np.max(train_x, axis=0)-np.min(train_x, axis=0)"
      ],
      "execution_count": null,
      "outputs": []
    },
    {
      "cell_type": "code",
      "metadata": {
        "id": "Qe1zP95l4EsR",
        "colab_type": "code",
        "colab": {}
      },
      "source": [
        "test = normalization(test, mu, sigma)\n",
        "train_x = normalization(train_x,mu, sigma)"
      ],
      "execution_count": null,
      "outputs": []
    },
    {
      "cell_type": "code",
      "metadata": {
        "id": "ZC-xGOI24IKj",
        "colab_type": "code",
        "colab": {
          "base_uri": "https://localhost:8080/",
          "height": 33
        },
        "outputId": "a7a563ab-ff23-4fec-c6a8-75c0bf9c4534"
      },
      "source": [
        "train_y = pd.get_dummies(train_y).values\n",
        "print(train_y[0])"
      ],
      "execution_count": null,
      "outputs": [
        {
          "output_type": "stream",
          "text": [
            "[0 1 0 0 0 0 0 0 0 0]\n"
          ],
          "name": "stdout"
        }
      ]
    },
    {
      "cell_type": "code",
      "metadata": {
        "id": "HPA26L8L4Qou",
        "colab_type": "code",
        "colab": {
          "base_uri": "https://localhost:8080/",
          "height": 265
        },
        "outputId": "b226c5e9-57bb-4f19-95b1-db41dd19ef5f"
      },
      "source": [
        "def ReLu(x, derivative=False):\n",
        "    if(derivative==False):\n",
        "        return x*(x > 0)\n",
        "    else:\n",
        "        return 1*(x > 0)\n",
        "\n",
        "x = np.arange(20)-10\n",
        "relu = ReLu(x)\n",
        "\n",
        "plt.plot(x, relu)\n",
        "plt.show()\n"
      ],
      "execution_count": null,
      "outputs": [
        {
          "output_type": "display_data",
          "data": {
            "image/png": "[encoded data removed]",
            "text/plain": [
              "<Figure size 432x288 with 1 Axes>"
            ]
          },
          "metadata": {
            "tags": [],
            "needs_background": "light"
          }
        }
      ]
    },
    {
      "cell_type": "code",
      "metadata": {
        "id": "WrDUhQNq4v42",
        "colab_type": "code",
        "colab": {
          "base_uri": "https://localhost:8080/",
          "height": 265
        },
        "outputId": "6b3f92eb-fa5d-4426-942d-87027ecbcc4f"
      },
      "source": [
        "def Softmax(x):\n",
        "    x -= np.max(x)\n",
        "    sm = (np.exp(x).T / np.sum(np.exp(x),axis=1)).T\n",
        "    return sm\n",
        "\n",
        "x = np.arange(20)-10\n",
        "softmax = Softmax([x])\n",
        "\n",
        "plt.plot(x, softmax[0])\n",
        "plt.show()"
      ],
      "execution_count": null,
      "outputs": [
        {
          "output_type": "display_data",
          "data": {
            "image/png": "[encoded data removed]",
            "text/plain": [
              "<Figure size 432x288 with 1 Axes>"
            ]
          },
          "metadata": {
            "tags": [],
            "needs_background": "light"
          }
        }
      ]
    },
    {
      "cell_type": "code",
      "metadata": {
        "id": "8mD_Bcui8Ug9",
        "colab_type": "code",
        "colab": {}
      },
      "source": [
        "def CreateWeights():\n",
        "    ##Initialization of the Weights and the Biases with the random gaussian function with mean zeron, and variance between 1/sqtr(num_inputs_layer)\n",
        "    \n",
        "    ninputs = 784\n",
        "    wl1 = 500 ##Number of neurons in the first layer\n",
        "    wl2 = 300 ##Number of neurons in the second layer\n",
        "    nclass = 10 ##Numer of the class, in this case it is the number of the digits.\n",
        "    \n",
        "    #layer1\n",
        "    w1 = np.random.normal(0, ninputs**-0.5, [ninputs,wl1])\n",
        "    b1 = np.random.normal(0, ninputs**-0.5, [1,wl1])\n",
        "    \n",
        "    #Layer2\n",
        "    w2 = np.random.normal(0, wl1**-0.5, [wl1,wl2])\n",
        "    b2 = np.random.normal(0, wl1**-0.5, [1,wl2])\n",
        "\n",
        "    #Layer3\n",
        "    w3 = np.random.normal(0, wl2**-0.5, [wl2,nclass])\n",
        "    b3 = np.random.normal(0, wl2**-0.5, [1,nclass])\n",
        "    \n",
        "    return [w1,w2,w3,b1,b2,b3]"
      ],
      "execution_count": null,
      "outputs": []
    },
    {
      "cell_type": "code",
      "metadata": {
        "id": "QcQww7hb8U91",
        "colab_type": "code",
        "colab": {}
      },
      "source": [
        "def Dropout(x, dropout_percent):\n",
        "    mask = np.random.binomial([np.ones_like(x)],(1-dropout_percent))[0]  / (1-dropout_percent)\n",
        "    return x*mask"
      ],
      "execution_count": null,
      "outputs": []
    },
    {
      "cell_type": "code",
      "metadata": {
        "id": "LcD8i7958Wpe",
        "colab_type": "code",
        "colab": {}
      },
      "source": [
        "def predict(weights, x, dropout_percent=0):\n",
        "    \n",
        "    w1,w2,w3,b1,b2,b3  = weights \n",
        "    \n",
        "    #1-Hidden Layer\n",
        "    first = ReLu(x@w1+b1)\n",
        "    first = Dropout(first, dropout_percent)\n",
        "\n",
        "    #2-Hidden Layer\n",
        "    second = ReLu(first@w2+b2)\n",
        "    second = Dropout(second, dropout_percent)\n",
        "    \n",
        "    #Output Layer\n",
        "    return [first, second, Softmax(second@w3+b3)]"
      ],
      "execution_count": null,
      "outputs": []
    },
    {
      "cell_type": "code",
      "metadata": {
        "id": "j37A5h3S8ZTa",
        "colab_type": "code",
        "colab": {}
      },
      "source": [
        "def accuracy(output, y):\n",
        "    hit = 0\n",
        "    output = np.argmax(output, axis=1)\n",
        "    y = np.argmax(y, axis=1)\n",
        "    for y in zip(output, y):\n",
        "        if(y[0]==y[1]):\n",
        "            hit += 1\n",
        "\n",
        "    p = (hit*100)/output.shape[0]\n",
        "    return p"
      ],
      "execution_count": null,
      "outputs": []
    },
    {
      "cell_type": "code",
      "metadata": {
        "id": "xRJEBUjE8bgU",
        "colab_type": "code",
        "colab": {
          "base_uri": "https://localhost:8080/",
          "height": 295
        },
        "outputId": "b916cc4d-4757-4c74-d312-a3cab4e11400"
      },
      "source": [
        "fig, (ax0, ax1) = plt.subplots(ncols=2, figsize=(14, 4))\n",
        "\n",
        "y = np.arange(100)/100\n",
        "\n",
        "e = -np.log(y)\n",
        "e2 = -np.log(1-y)\n",
        "\n",
        "ax0.plot(y, e)\n",
        "ax0.set_title(\"For t (right label) = 1\")\n",
        "ax0.set_xlabel(\"Predict\")\n",
        "ax0.set_ylabel(\"Error\")\n",
        "ax1.plot(y, e2)\n",
        "ax1.set_title(\"For t (right label) = 0\")\n",
        "ax1.set_xlabel(\"Predict\")\n",
        "ax1.set_ylabel(\"Error\")\n",
        "plt.show()"
      ],
      "execution_count": null,
      "outputs": [
        {
          "output_type": "display_data",
          "data": {
            "image/png": "[encoded data removed]",
            "text/plain": [
              "<Figure size 1008x288 with 2 Axes>"
            ]
          },
          "metadata": {
            "tags": [],
            "needs_background": "light"
          }
        }
      ]
    },
    {
      "cell_type": "code",
      "metadata": {
        "id": "L_2v0Z238ddK",
        "colab_type": "code",
        "colab": {}
      },
      "source": [
        "def log2(x):\n",
        "    if(x!=0):\n",
        "        return np.log(x)\n",
        "    else:\n",
        "        return -np.inf\n",
        "    \n",
        "def log(y):\n",
        "    return [[log2(nx) for nx in x]for x in y]\n",
        "\n",
        "def cost(Y_predict, Y_right, weights, nabla):\n",
        "    w1,w2,w3,b1,b2,b3  = weights\n",
        "    weights_sum_square = np.mean(w1**2) + np.mean(w2**2) + np.mean(w3**2)\n",
        "    Loss = -np.mean(Y_right*log(Y_predict) + (1-Y_right)*log(1-Y_predict)) + nabla/2 *  weights_sum_square\n",
        "    return Loss"
      ],
      "execution_count": null,
      "outputs": []
    },
    {
      "cell_type": "code",
      "metadata": {
        "id": "b6ZH_B1r8tZJ",
        "colab_type": "code",
        "colab": {
          "base_uri": "https://localhost:8080/",
          "height": 33
        },
        "outputId": "6586f111-63a7-4d07-bc4b-e8128f4b74f0"
      },
      "source": [
        "porcent_valid = 0.1\n",
        "VALID_SIZE = round(train_x.shape[0]*porcent_valid)\n",
        "\n",
        "index_data = np.arange(train_x.shape[0])\n",
        "np.random.shuffle(index_data)\n",
        "\n",
        "x_train = train_x[index_data[VALID_SIZE:]]\n",
        "x_valid = train_x[index_data[:VALID_SIZE]]\n",
        "\n",
        "\n",
        "d_train = train_y[index_data[VALID_SIZE:]]\n",
        "d_valid = train_y[index_data[:VALID_SIZE]]\n",
        "\n",
        "train_x = None\n",
        "train_y = None\n",
        "\n",
        "x_train.shape"
      ],
      "execution_count": null,
      "outputs": [
        {
          "output_type": "execute_result",
          "data": {
            "text/plain": [
              "(37800, 784)"
            ]
          },
          "metadata": {
            "tags": []
          },
          "execution_count": 20
        }
      ]
    },
    {
      "cell_type": "code",
      "metadata": {
        "id": "7NLhJvrH8vMR",
        "colab_type": "code",
        "colab": {}
      },
      "source": [
        "def SGD(weights, x, t, outputs, eta, gamma, nabla, cache=None):\n",
        "    \n",
        "    w1,w2,w3,b1,b2,b3  = weights\n",
        "    \n",
        "    \n",
        "    if(cache==None):\n",
        "            vw1 = np.zeros_like(w1)\n",
        "            vw2 = np.zeros_like(w2)\n",
        "            vw3 = np.zeros_like(w3)\n",
        "            vb1 = np.zeros_like(b1)\n",
        "            vb2 = np.zeros_like(b2)\n",
        "            vb3 = np.zeros_like(b3)\n",
        "    else:\n",
        "        vw1,vw2,vw3,vb1,vb2,vb3 = cache\n",
        "    \n",
        "    first, second, y = outputs\n",
        "   \n",
        "    w3_delta = (t-y)\n",
        "   \n",
        "    w2_error = w3_delta@w3.T\n",
        "    \n",
        "    w2_delta = w2_error * ReLu(second,derivative=True)\n",
        "\n",
        "    w1_error = w2_delta@w2.T\n",
        "    w1_delta = w1_error * ReLu(first,derivative=True)\n",
        "    \n",
        "    eta = -eta/x.shape[0]\n",
        " \n",
        "    vw3 = gamma*vw3 + eta * (second.T@w3_delta + nabla*w3)\n",
        "    vb3 = gamma*vb3 + eta * w3_delta.sum(axis=0)\n",
        "\n",
        "    vw2 = gamma*vw2 + eta * (first.T@w2_delta + nabla*w2)\n",
        "    vb2 = gamma*vb2 + eta * w2_delta.sum(axis=0)\n",
        "\n",
        "    vw1 = gamma*vw1 + eta * (x.T@w1_delta + nabla*w1)\n",
        "    vb1 = gamma*vb1 + eta * w1_delta.sum(axis=0)\n",
        "    \n",
        "    \n",
        "    w3 -= vw3\n",
        "    b3 -= vb3\n",
        "\n",
        "    w2 -= vw2\n",
        "    b2 -= vb2\n",
        "\n",
        "    w1 -= vw1\n",
        "    b1 -= vb1\n",
        "    \n",
        "    weights = [w1,w2,w3,b1,b2,b3]\n",
        "    cache = [vw1,vw2,vw3,vb1,vb2,vb3]\n",
        "    \n",
        "    return weights, cache"
      ],
      "execution_count": null,
      "outputs": []
    },
    {
      "cell_type": "code",
      "metadata": {
        "id": "WT6U5Ior80ze",
        "colab_type": "code",
        "colab": {}
      },
      "source": [
        "from scipy.ndimage.interpolation import map_coordinates\n",
        "from scipy.ndimage.filters import gaussian_filter\n",
        "\n",
        "def elastic_transform(image, alpha, sigma, random_state=None):\n",
        "    \"\"\"Elastic deformation of images as described in [Simard2003]_.\n",
        "    .. [Simard2003] Simard, Steinkraus and Platt, \"Best Practices for\n",
        "       Convolutional Neural Networks applied to Visual Document Analysis\", in\n",
        "       Proc. of the International Conference on Document Analysis and\n",
        "       Recognition, 2003.\n",
        "    \"\"\"\n",
        "    if random_state is None:\n",
        "        random_state = np.random.RandomState(None)\n",
        "\n",
        "    shape = image.shape\n",
        "    dx = gaussian_filter((random_state.rand(*shape) * 2 - 1), sigma, mode=\"constant\", cval=0) * alpha\n",
        "    dy = gaussian_filter((random_state.rand(*shape) * 2 - 1), sigma, mode=\"constant\", cval=0) * alpha\n",
        "\n",
        "    x, y = np.meshgrid(np.arange(shape[0]), np.arange(shape[1]))\n",
        "    indices = np.reshape(y+dy, (-1, 1)), np.reshape(x+dx, (-1, 1))\n",
        "\n",
        "    return map_coordinates(image, indices, order=1).reshape(shape)"
      ],
      "execution_count": null,
      "outputs": []
    },
    {
      "cell_type": "code",
      "metadata": {
        "id": "WeKFWyKQ89MY",
        "colab_type": "code",
        "colab": {
          "base_uri": "https://localhost:8080/",
          "height": 217
        },
        "outputId": "8d670dde-9bdf-4307-92cb-f0f00d5b8f2e"
      },
      "source": [
        "x_t = np.array([elastic_transform(xx.reshape(28,28),15,3).reshape(784) for xx in x_train[0:10]])\n",
        "plt.subplot(1,2,1)\n",
        "plt.imshow(x_t[0].reshape(28,28))\n",
        "plt.subplot(1,2,2)\n",
        "plt.imshow(x_train[0].reshape(28,28))"
      ],
      "execution_count": null,
      "outputs": [
        {
          "output_type": "execute_result",
          "data": {
            "text/plain": [
              "<matplotlib.image.AxesImage at 0x7f3c610c2860>"
            ]
          },
          "metadata": {
            "tags": []
          },
          "execution_count": 23
        },
        {
          "output_type": "display_data",
          "data": {
            "image/png": "[encoded data removed]",
            "text/plain": [
              "<Figure size 432x288 with 2 Axes>"
            ]
          },
          "metadata": {
            "tags": [],
            "needs_background": "light"
          }
        }
      ]
    },
    {
      "cell_type": "code",
      "metadata": {
        "id": "e17xOCxt8_QN",
        "colab_type": "code",
        "colab": {}
      },
      "source": [
        "\n",
        "def run(weights, x_train, y_train, x_valid, y_valid, epochs = 10, nbatchs=25, alpha = 1e-3, decay = 0, momentum = 0, l2 = 0.001, dropout_percent = 0):\n",
        "    \n",
        "    pross = x_train.shape[0]*0.05\n",
        "    \n",
        "    history = [[],[]]\n",
        "    \n",
        "    index = np.arange(x_train.shape[0])\n",
        "    cache = None\n",
        "    print(\"Train data: %d\" % (x_train.shape[0]))\n",
        "    print(\"Validation data: %d \\n\" % (x_valid.shape[0]))\n",
        "    mtime = 0\n",
        "    \n",
        "    r_weights = []\n",
        "    max_accuracy_valid = 0\n",
        "    \n",
        "    for j in range(epochs):\n",
        "        np.random.shuffle(index)\n",
        "        t = 0\n",
        "        iterations = round(x_train.shape[0]/nbatchs)\n",
        "        prog = \"\"\n",
        "        sacurr = 0\n",
        "        sloss = 0\n",
        "        sys.stdout.write(\"\\nEpochs: %2d \\ %2d \\n\"% (j+1,epochs))\n",
        "        stime = 0\n",
        "        timeIT = time.time()\n",
        "        for i in range(iterations):\n",
        "            timeI = time.time()\n",
        "            f = i*nbatchs\n",
        "            l = f+nbatchs\n",
        "            \n",
        "            if(l>(x_train.shape[0]-1)):\n",
        "                l = x_train.shape[0]\n",
        "                \n",
        "            x = np.array([elastic_transform(xx.reshape(28,28),15,3).reshape(784) for xx in x_train[index[f:l]]])\n",
        "            y = y_train[index[f:l]]\n",
        "\n",
        "            outputs = predict(weights, x, dropout_percent)\n",
        "            \n",
        "            loss = cost(outputs[-1], y, weights, l2)\n",
        "            \n",
        "            \n",
        "            accuracy_t = accuracy(outputs[-1], y)\n",
        "            \n",
        "            sacurr += accuracy_t\n",
        "            sloss += loss\n",
        "            \n",
        "            accuracy_train = sacurr/(i+1)\n",
        "            loss_train = sloss/(i+1)\n",
        "            \n",
        "            weights, cache = SGD(weights, x, y, outputs, alpha, momentum, l2, cache)\n",
        "            \n",
        "            t+= x.shape[0]\n",
        "            \n",
        "            qtd = round(t/pross)\n",
        "            prog = \"[\"\n",
        "            for p in range(20):\n",
        "                if(p<qtd-1):\n",
        "                    prog += \"=\"\n",
        "                elif(p==qtd-1):\n",
        "                    prog += \">\"\n",
        "                else:\n",
        "                    prog += \".\"\n",
        "            prog += \"]\"\n",
        "\n",
        "            \n",
        "            stime += time.time()-timeI\n",
        "            mtime = stime/(i+1)\n",
        "            mTimeT = mtime * (iterations-i-1)\n",
        "            \n",
        "            sys.stdout.write(\"\\r%5d/%5d %s ETA: %3d s - loss: %.4f  acc: %.4f\" % (t, x_train.shape[0], prog, mTimeT, loss_train, accuracy_train))\n",
        "            \n",
        "            history[0].append([loss_train, accuracy_train])\n",
        "        mtime = time.time()-timeIT\n",
        "        alpha = alpha - (alpha*decay)\n",
        "        \n",
        "        outputs = predict(weights, x_valid)\n",
        "        \n",
        "        loss_valid = cost(outputs[-1], y_valid, weights, l2)\n",
        "        accuracy_valid = accuracy(outputs[-1], y_valid)\n",
        "        \n",
        "        sys.stdout.write(\"\\r%5d/%5d %s ETA: %3d s loss: %.4f  acc: %.4f - lossValid: %.4f  accValid: %.4f \" % ( t, x_train.shape[0], prog, mtime, loss_train, accuracy_train, loss_valid, accuracy_valid))\n",
        "        history[1].append([loss_valid, accuracy_valid])\n",
        "            \n",
        "        if(accuracy_valid>=max_accuracy_valid):\n",
        "            w1,w2,w3,b1,b2,b3  = weights\n",
        "            r_weights = [w1.copy(),w2.copy(),w3.copy(),b1.copy(),b2.copy(),b3.copy()]\n",
        "            max_accuracy_valid = accuracy_valid\n",
        "        \n",
        "    return r_weights, history"
      ],
      "execution_count": null,
      "outputs": []
    },
    {
      "cell_type": "code",
      "metadata": {
        "id": "0aDlTdlh9CNQ",
        "colab_type": "code",
        "colab": {
          "base_uri": "https://localhost:8080/",
          "height": 1000
        },
        "outputId": "81ce080f-e66f-485e-e9b6-80ba156430d3"
      },
      "source": [
        "weights = CreateWeights()\n",
        "\n",
        "alpha = 5e-2\n",
        "epochs = 40\n",
        "nbatchs = 100\n",
        "weights, history = run(weights, \n",
        "              x_train, d_train, \n",
        "              x_valid, d_valid, \n",
        "              epochs = epochs,\n",
        "              nbatchs=nbatchs, \n",
        "              alpha = alpha, \n",
        "              decay = 0.05, \n",
        "              momentum = 0.9, \n",
        "              l2 = 1e-3, \n",
        "              dropout_percent = 0.20)"
      ],
      "execution_count": null,
      "outputs": [
        {
          "output_type": "stream",
          "text": [
            "Train data: 37800\n",
            "Validation data: 4200 \n",
            "\n",
            "\n",
            "Epochs:  1 \\ 40 \n",
            "37800/37800 [===================>] ETA:  60 s loss: 0.0887  acc: 83.2143 - lossValid: 0.0264  accValid: 95.4048 \n",
            "Epochs:  2 \\ 40 \n",
            "37800/37800 [===================>] ETA:  60 s loss: 0.0461  acc: 91.5979 - lossValid: 0.0185  accValid: 96.7381 \n",
            "Epochs:  3 \\ 40 \n",
            "37800/37800 [===================>] ETA:  61 s loss: 0.0387  acc: 93.0238 - lossValid: 0.0158  accValid: 97.3095 \n",
            "Epochs:  4 \\ 40 \n",
            "37800/37800 [===================>] ETA:  60 s loss: 0.0331  acc: 94.1296 - lossValid: 0.0132  accValid: 97.5476 \n",
            "Epochs:  5 \\ 40 \n",
            "37800/37800 [===================>] ETA:  61 s loss: 0.0308  acc: 94.5106 - lossValid: 0.0125  accValid: 97.7143 \n",
            "Epochs:  6 \\ 40 \n",
            "37800/37800 [===================>] ETA:  61 s loss: 0.0282  acc: 94.8598 - lossValid: 0.0104  accValid: 98.1429 \n",
            "Epochs:  7 \\ 40 \n",
            "37800/37800 [===================>] ETA:  61 s loss: 0.0273  acc: 95.1640 - lossValid: 0.0097  accValid: 98.2381 \n",
            "Epochs:  8 \\ 40 \n",
            "37800/37800 [===================>] ETA:  60 s loss: 0.0260  acc: 95.3280 - lossValid: 0.0102  accValid: 98.0000 \n",
            "Epochs:  9 \\ 40 \n",
            "37800/37800 [===================>] ETA:  60 s loss: 0.0240  acc: 95.7619 - lossValid: 0.0097  accValid: 98.2857 \n",
            "Epochs: 10 \\ 40 \n",
            "37800/37800 [===================>] ETA:  60 s loss: 0.0229  acc: 95.9762 - lossValid: 0.0087  accValid: 98.4048 \n",
            "Epochs: 11 \\ 40 \n",
            "37800/37800 [===================>] ETA:  61 s loss: 0.0223  acc: 96.0212 - lossValid: 0.0086  accValid: 98.4286 \n",
            "Epochs: 12 \\ 40 \n",
            "37800/37800 [===================>] ETA:  61 s loss: 0.0217  acc: 96.2540 - lossValid: 0.0084  accValid: 98.4286 \n",
            "Epochs: 13 \\ 40 \n",
            "37800/37800 [===================>] ETA:  60 s loss: 0.0208  acc: 96.4868 - lossValid: 0.0082  accValid: 98.6429 \n",
            "Epochs: 14 \\ 40 \n",
            "37800/37800 [===================>] ETA:  60 s loss: 0.0208  acc: 96.3280 - lossValid: 0.0079  accValid: 98.4048 \n",
            "Epochs: 15 \\ 40 \n",
            "37800/37800 [===================>] ETA:  61 s loss: 0.0198  acc: 96.5397 - lossValid: 0.0078  accValid: 98.6429 \n",
            "Epochs: 16 \\ 40 \n",
            "37800/37800 [===================>] ETA:  61 s loss: 0.0194  acc: 96.5979 - lossValid: 0.0073  accValid: 98.5476 \n",
            "Epochs: 17 \\ 40 \n",
            "37800/37800 [===================>] ETA:  60 s loss: 0.0191  acc: 96.5661 - lossValid: 0.0068  accValid: 98.5952 \n",
            "Epochs: 18 \\ 40 \n",
            "37800/37800 [===================>] ETA:  60 s loss: 0.0181  acc: 96.8148 - lossValid: 0.0069  accValid: 98.7619 \n",
            "Epochs: 19 \\ 40 \n",
            "37800/37800 [===================>] ETA:  60 s loss: 0.0180  acc: 96.8757 - lossValid: 0.0066  accValid: 98.6429 \n",
            "Epochs: 20 \\ 40 \n",
            "37800/37800 [===================>] ETA:  60 s loss: 0.0177  acc: 96.8677 - lossValid: 0.0067  accValid: 98.6667 \n",
            "Epochs: 21 \\ 40 \n",
            "37800/37800 [===================>] ETA:  60 s loss: 0.0171  acc: 97.0185 - lossValid: 0.0070  accValid: 98.6190 \n",
            "Epochs: 22 \\ 40 \n",
            "37800/37800 [===================>] ETA:  60 s loss: 0.0175  acc: 96.8862 - lossValid: 0.0067  accValid: 98.7143 \n",
            "Epochs: 23 \\ 40 \n",
            "37800/37800 [===================>] ETA:  60 s loss: 0.0169  acc: 97.0926 - lossValid: 0.0062  accValid: 98.7619 \n",
            "Epochs: 24 \\ 40 \n",
            "37800/37800 [===================>] ETA:  60 s loss: 0.0163  acc: 97.1640 - lossValid: 0.0066  accValid: 98.7381 \n",
            "Epochs: 25 \\ 40 \n",
            "37800/37800 [===================>] ETA:  60 s loss: 0.0170  acc: 96.9630 - lossValid: 0.0064  accValid: 98.7143 \n",
            "Epochs: 26 \\ 40 \n",
            "37800/37800 [===================>] ETA:  60 s loss: 0.0162  acc: 97.1429 - lossValid: 0.0060  accValid: 98.9524 \n",
            "Epochs: 27 \\ 40 \n",
            "37800/37800 [===================>] ETA:  59 s loss: 0.0156  acc: 97.2672 - lossValid: 0.0059  accValid: 98.8810 \n",
            "Epochs: 28 \\ 40 \n",
            "37800/37800 [===================>] ETA:  59 s loss: 0.0156  acc: 97.2751 - lossValid: 0.0062  accValid: 98.7619 \n",
            "Epochs: 29 \\ 40 \n",
            "37800/37800 [===================>] ETA:  59 s loss: 0.0154  acc: 97.2487 - lossValid: 0.0066  accValid: 98.7381 \n",
            "Epochs: 30 \\ 40 \n",
            "37800/37800 [===================>] ETA:  59 s loss: 0.0154  acc: 97.3016 - lossValid: 0.0066  accValid: 98.7857 \n",
            "Epochs: 31 \\ 40 \n",
            "37800/37800 [===================>] ETA:  60 s loss: 0.0156  acc: 97.3810 - lossValid: 0.0061  accValid: 98.7857 \n",
            "Epochs: 32 \\ 40 \n",
            "37800/37800 [===================>] ETA:  60 s loss: 0.0152  acc: 97.4074 - lossValid: 0.0066  accValid: 98.7619 \n",
            "Epochs: 33 \\ 40 \n",
            "37800/37800 [===================>] ETA:  60 s loss: 0.0149  acc: 97.4392 - lossValid: 0.0060  accValid: 98.7857 \n",
            "Epochs: 34 \\ 40 \n",
            "37800/37800 [===================>] ETA:  60 s loss: 0.0151  acc: 97.4418 - lossValid: 0.0059  accValid: 98.9524 \n",
            "Epochs: 35 \\ 40 \n",
            "37800/37800 [===================>] ETA:  60 s loss: 0.0140  acc: 97.5132 - lossValid: 0.0061  accValid: 98.8571 \n",
            "Epochs: 36 \\ 40 \n",
            "37800/37800 [===================>] ETA:  60 s loss: 0.0144  acc: 97.4947 - lossValid: 0.0058  accValid: 98.9048 \n",
            "Epochs: 37 \\ 40 \n",
            "37800/37800 [===================>] ETA:  60 s loss: 0.0145  acc: 97.3862 - lossValid: 0.0058  accValid: 98.8095 \n",
            "Epochs: 38 \\ 40 \n",
            "37800/37800 [===================>] ETA:  60 s loss: 0.0144  acc: 97.5370 - lossValid: 0.0058  accValid: 98.8333 \n",
            "Epochs: 39 \\ 40 \n",
            "37800/37800 [===================>] ETA:  60 s loss: 0.0141  acc: 97.4735 - lossValid: 0.0057  accValid: 98.9048 \n",
            "Epochs: 40 \\ 40 \n",
            "37800/37800 [===================>] ETA:  60 s loss: 0.0143  acc: 97.5106 - lossValid: 0.0059  accValid: 98.8095 "
          ],
          "name": "stdout"
        }
      ]
    },
    {
      "cell_type": "code",
      "metadata": {
        "id": "3VyTYW1q9Mwo",
        "colab_type": "code",
        "colab": {
          "base_uri": "https://localhost:8080/",
          "height": 592
        },
        "outputId": "05c0cff3-a8d6-4203-adb0-06942e08c101"
      },
      "source": [
        "train_history = np.array(history[0])\n",
        "t_loss = train_history[:,:1]\n",
        "t_acc = train_history[:,1:2]\n",
        "valid_history = np.array(history[1])\n",
        "train_history.shape\n",
        "v_loss = valid_history[:,:1]\n",
        "v_acc = valid_history[:,1:2]\n",
        "plt.figure(figsize=(12,10))\n",
        "\n",
        "plt.subplot(2, 1, 1)\n",
        "x = np.arange(epochs)*int(x_train.shape[0]/nbatchs)\n",
        "plt.plot(x,v_acc)\n",
        "plt.plot(t_acc)\n",
        "\n",
        "plt.subplot(2, 1, 2)\n",
        "plt.plot(x,v_loss)\n",
        "plt.plot(t_loss)\n",
        "\n",
        "plt.show()"
      ],
      "execution_count": null,
      "outputs": [
        {
          "output_type": "display_data",
          "data": {
            "image/png": "[encoded data removed]",
            "text/plain": [
              "<Figure size 864x720 with 2 Axes>"
            ]
          },
          "metadata": {
            "tags": [],
            "needs_background": "light"
          }
        }
      ]
    },
    {
      "cell_type": "code",
      "metadata": {
        "id": "Kyv-8QnQ9wJA",
        "colab_type": "code",
        "colab": {}
      },
      "source": [
        "def plot_confusion_matrix(cm, classes,\n",
        "                          normalize=False,\n",
        "                          title='Confusion matrix',\n",
        "                          cmap=plt.cm.Blues):\n",
        "    \"\"\"\n",
        "    This function prints and plots the confusion matrix.\n",
        "    Normalization can be applied by setting `normalize=True`.\n",
        "    \"\"\"\n",
        "    plt.imshow(cm, interpolation='nearest', cmap=cmap)\n",
        "    plt.title(title)\n",
        "    plt.colorbar()\n",
        "    tick_marks = np.arange(len(classes))\n",
        "    plt.xticks(tick_marks, classes, rotation=45)\n",
        "    plt.yticks(tick_marks, classes)\n",
        "\n",
        "    if normalize:\n",
        "        cm = cm.astype('float') / cm.sum(axis=1)[:, np.newaxis]\n",
        "\n",
        "    thresh = cm.max() / 2.\n",
        "    for i in range(cm.shape[0]):\n",
        "        for j in range(cm.shape[1]):\n",
        "            plt.text(j, i, cm[i, j],\n",
        "                     horizontalalignment=\"center\",\n",
        "                     color=\"white\" if cm[i, j] > thresh else \"black\")\n",
        "\n",
        "    plt.tight_layout()\n",
        "    plt.ylabel('True label')\n",
        "    plt.xlabel('Predicted label')"
      ],
      "execution_count": null,
      "outputs": []
    },
    {
      "cell_type": "code",
      "metadata": {
        "id": "6WEpb_6n90yc",
        "colab_type": "code",
        "colab": {}
      },
      "source": [
        "outputs = predict(weights, x_valid)"
      ],
      "execution_count": null,
      "outputs": []
    },
    {
      "cell_type": "code",
      "metadata": {
        "id": "mHLXa30t93Ry",
        "colab_type": "code",
        "colab": {
          "base_uri": "https://localhost:8080/",
          "height": 184
        },
        "outputId": "05e42f6e-17ae-49fc-fd06-dddac1bc1fa8"
      },
      "source": [
        "p = np.argmax(outputs[-1],axis=1)\n",
        "predict_dummies = pd.get_dummies(p).values.astype('int8')\n",
        "\n",
        "cm = np.zeros((10,10)).astype(np.int64)\n",
        "\n",
        "d_valid_int = np.argmax(d_valid, axis=1)\n",
        "\n",
        "for i in range(predict_dummies.shape[0]):\n",
        "    cm[d_valid_int[i]] += predict_dummies[i]\n",
        "\n",
        "print(cm)"
      ],
      "execution_count": null,
      "outputs": [
        {
          "output_type": "stream",
          "text": [
            "[[430   1   0   0   0   1   1   0   0   0]\n",
            " [  0 457   0   0   1   0   0   3   0   0]\n",
            " [  0   0 418   0   0   0   0   2   0   0]\n",
            " [  0   0   1 433   0   1   0   3   1   2]\n",
            " [  0   1   0   0 405   0   0   3   0   0]\n",
            " [  0   0   0   2   0 364   4   1   1   1]\n",
            " [  0   0   0   0   0   0 401   0   0   0]\n",
            " [  0   1   2   0   0   0   0 427   0   0]\n",
            " [  1   0   0   0   1   2   0   0 414   1]\n",
            " [  0   1   0   0   4   0   0   1   0 407]]\n"
          ],
          "name": "stdout"
        }
      ]
    },
    {
      "cell_type": "code",
      "metadata": {
        "id": "sEk52Dlz-r2M",
        "colab_type": "code",
        "colab": {
          "base_uri": "https://localhost:8080/",
          "height": 311
        },
        "outputId": "6474a0ab-b284-4df5-f12a-23744671849d"
      },
      "source": [
        "plot_confusion_matrix(cm, range(10))"
      ],
      "execution_count": null,
      "outputs": [
        {
          "output_type": "display_data",
          "data": {
            "image/png": "[encoded data removed]",
            "text/plain": [
              "<Figure size 432x288 with 2 Axes>"
            ]
          },
          "metadata": {
            "tags": [],
            "needs_background": "light"
          }
        }
      ]
    },
    {
      "cell_type": "code",
      "metadata": {
        "id": "TO-9tluL-wtJ",
        "colab_type": "code",
        "colab": {
          "base_uri": "https://localhost:8080/",
          "height": 217
        },
        "outputId": "03ff8896-a74e-4b3f-a375-fe5432325d2c"
      },
      "source": [
        "s_cm = np.sum(cm,axis=0)\n",
        "for i in range(10):\n",
        "    p = cm[i][i]/s_cm[i]\n",
        "    print(\"%d - %.3f %%\" % (i,p))\n",
        "\n",
        "print(\" \");\n",
        "print(\"%f %%\" % accuracy(outputs[-1], d_valid))"
      ],
      "execution_count": null,
      "outputs": [
        {
          "output_type": "stream",
          "text": [
            "0 - 0.998 %\n",
            "1 - 0.991 %\n",
            "2 - 0.993 %\n",
            "3 - 0.995 %\n",
            "4 - 0.985 %\n",
            "5 - 0.989 %\n",
            "6 - 0.988 %\n",
            "7 - 0.970 %\n",
            "8 - 0.995 %\n",
            "9 - 0.990 %\n",
            " \n",
            "98.952381 %\n"
          ],
          "name": "stdout"
        }
      ]
    },
    {
      "cell_type": "code",
      "metadata": {
        "id": "N48N0BK8_E8W",
        "colab_type": "code",
        "colab": {}
      },
      "source": [
        "outputs = predict(weights, test)"
      ],
      "execution_count": null,
      "outputs": []
    },
    {
      "cell_type": "code",
      "metadata": {
        "id": "XZRtqTd9_ilU",
        "colab_type": "code",
        "colab": {}
      },
      "source": [
        "d = np.argmax(outputs[-1],axis=1)"
      ],
      "execution_count": null,
      "outputs": []
    },
    {
      "cell_type": "code",
      "metadata": {
        "id": "pYqjqz_F_kdE",
        "colab_type": "code",
        "colab": {}
      },
      "source": [
        "#ImageId,Label\n",
        "\n",
        "pd.DataFrame({\"ImageId\": list(range(1,len(d)+1)), \"Label\": d}).to_csv('output.csv', index=False, header=True)"
      ],
      "execution_count": null,
      "outputs": []
    },
    {
      "cell_type": "markdown",
      "metadata": {
        "id": "FcducQMMIKeX",
        "colab_type": "text"
      },
      "source": [
        "/content/output.csv this is the file of outputs"
      ]
    },
    {
      "cell_type": "code",
      "metadata": {
        "id": "ScR4VE_J_nTn",
        "colab_type": "code",
        "colab": {}
      },
      "source": [
        ""
      ],
      "execution_count": null,
      "outputs": []
    }
  ]
}